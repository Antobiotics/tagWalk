{
 "cells": [
  {
   "cell_type": "code",
   "execution_count": 1,
   "metadata": {
    "ExecuteTime": {
     "end_time": "2017-08-06T16:13:54.596047Z",
     "start_time": "2017-08-06T16:13:54.001913Z"
    }
   },
   "outputs": [
    {
     "name": "stdout",
     "output_type": "stream",
     "text": [
      "Populating the interactive namespace from numpy and matplotlib\n"
     ]
    }
   ],
   "source": [
    "%load_ext autoreload\n",
    "%autoreload 2\n",
    "%pylab inline\n",
    "%matplotlib inline"
   ]
  },
  {
   "cell_type": "code",
   "execution_count": null,
   "metadata": {
    "ExecuteTime": {
     "end_time": "2017-08-06T15:42:43.471336Z",
     "start_time": "2017-08-06T15:42:43.412952Z"
    }
   },
   "outputs": [],
   "source": [
    "import pandas as pd\n",
    "import torch\n",
    "\n",
    "from torch.utils.data.dataset import Dataset\n",
    "from torch.utils.data import DataLoader\n",
    "\n",
    "from sklearn.preprocessing import MultiLabelBinarizer\n",
    "\n",
    "from PIL import Image\n",
    "\n",
    "\n",
    "class TagwalkDataset(Dataset):\n",
    "    def __init__(self, csv_path, img_path, img_ext, transform=None):\n",
    "    \n",
    "        self.reference_dataset = self.read_reference_dataset(csv_path)\n",
    "        print self.reference_dataset.head()\n",
    "        \n",
    "        self.mlb = MultiLabelBinarizer()\n",
    "        self.img_path = img_path\n",
    "        self.img_ext = img_ext\n",
    "        self.transform = transform\n",
    "\n",
    "        self.X_train = self.reference_dataset['image']\n",
    "        self.y_train = self.mlb.fit_transform(\n",
    "            self.reference_dataset['tags']\n",
    "        ).astype(np.float32)\n",
    "\n",
    "    def read_reference_dataset(self, csv_path):\n",
    "        tmp_df = pd.read_csv(csv_path)\n",
    "        \n",
    "        tmp_df = (\n",
    "            tmp_df\n",
    "            .groupby('image')['tag']\n",
    "            .apply(list)\n",
    "        ).reset_index()\n",
    "        tmp_df.columns = ['image', 'tags']\n",
    "        return tmp_df\n",
    "        \n",
    "    def __getitem__(self, index):\n",
    "        item_img_path = '/'.join([\n",
    "            self.img_path,\n",
    "            self.X_train[index]\n",
    "        ])\n",
    "        img = Image.open(item_img_path)\n",
    "        img = img.convert('RGB')\n",
    "        if self.transform is not None:\n",
    "            img = self.transform(img)\n",
    "        \n",
    "        label = torch.from_numpy(self.y_train[index])\n",
    "        return img, label\n",
    "\n",
    "    def __len__(self):\n",
    "        return len(self.X_train.index)"
   ]
  },
  {
   "cell_type": "code",
   "execution_count": null,
   "metadata": {
    "ExecuteTime": {
     "end_time": "2017-08-06T15:45:20.214048Z",
     "start_time": "2017-08-06T15:45:17.298973Z"
    }
   },
   "outputs": [],
   "source": [
    "BASE_DATA = '/Volumes/bobby/tag_walk/tag_walk/data/tag_walk/'\n",
    "\n",
    "\n",
    "\n",
    "tw_dataset = TagwalkDataset(\n",
    "    csv_path=BASE_DATA + 'assocs.csv',\n",
    "    img_path=BASE_DATA + 'images/all',\n",
    "    img_ext='jpg',\n",
    "    transform=(\n",
    ")\n",
    ")"
   ]
  },
  {
   "cell_type": "code",
   "execution_count": null,
   "metadata": {
    "ExecuteTime": {
     "end_time": "2017-08-06T16:04:30.142687Z",
     "start_time": "2017-08-06T16:04:30.026395Z"
    }
   },
   "outputs": [],
   "source": [
    "tw_dataset[0][0]"
   ]
  },
  {
   "cell_type": "code",
   "execution_count": 4,
   "metadata": {
    "ExecuteTime": {
     "end_time": "2017-08-06T16:15:05.133658Z",
     "start_time": "2017-08-06T16:15:05.059360Z"
    }
   },
   "outputs": [
    {
     "ename": "ImportError",
     "evalue": "No module named configuration",
     "output_type": "error",
     "traceback": [
      "\u001b[0;31m---------------------------------------------------------------------------\u001b[0m",
      "\u001b[0;31mImportError\u001b[0m                               Traceback (most recent call last)",
      "\u001b[0;32m<ipython-input-4-5bf66da96d6b>\u001b[0m in \u001b[0;36m<module>\u001b[0;34m()\u001b[0m\n\u001b[0;32m----> 1\u001b[0;31m \u001b[0;32mfrom\u001b[0m \u001b[0mtag_walk\u001b[0m\u001b[0;34m.\u001b[0m\u001b[0mdatasets\u001b[0m\u001b[0;34m.\u001b[0m\u001b[0mtagwalk\u001b[0m \u001b[0;32mimport\u001b[0m \u001b[0mTagwalkDataset\u001b[0m\u001b[0;34m\u001b[0m\u001b[0m\n\u001b[0m",
      "\u001b[0;32m/Users/gregoirelejay/dev/personal/tag_walk/tag_walk/tag_walk/datasets/tagwalk.py\u001b[0m in \u001b[0;36m<module>\u001b[0;34m()\u001b[0m\n\u001b[1;32m     12\u001b[0m \u001b[0;32mfrom\u001b[0m \u001b[0mPIL\u001b[0m \u001b[0;32mimport\u001b[0m \u001b[0mImage\u001b[0m\u001b[0;34m\u001b[0m\u001b[0m\n\u001b[1;32m     13\u001b[0m \u001b[0;34m\u001b[0m\u001b[0m\n\u001b[0;32m---> 14\u001b[0;31m \u001b[0;32mimport\u001b[0m \u001b[0mtag_walk\u001b[0m\u001b[0;34m.\u001b[0m\u001b[0mconfiguration\u001b[0m \u001b[0;32mas\u001b[0m \u001b[0mconf\u001b[0m\u001b[0;34m\u001b[0m\u001b[0m\n\u001b[0m\u001b[1;32m     15\u001b[0m \u001b[0;34m\u001b[0m\u001b[0m\n\u001b[1;32m     16\u001b[0m BASE_PATH = (\n",
      "\u001b[0;32m/Users/gregoirelejay/dev/personal/tag_walk/tag_walk/tag_walk/datasets/tag_walk.py\u001b[0m in \u001b[0;36m<module>\u001b[0;34m()\u001b[0m\n",
      "\u001b[0;31mImportError\u001b[0m: No module named configuration"
     ]
    }
   ],
   "source": [
    "from tag_walk.datasets.tagwalk import TagwalkDataset"
   ]
  },
  {
   "cell_type": "code",
   "execution_count": 7,
   "metadata": {
    "ExecuteTime": {
     "end_time": "2017-08-06T16:07:29.657541Z",
     "start_time": "2017-08-06T16:07:29.629845Z"
    }
   },
   "outputs": [],
   "source": []
  },
  {
   "cell_type": "code",
   "execution_count": null,
   "metadata": {
    "collapsed": true
   },
   "outputs": [],
   "source": []
  }
 ],
 "metadata": {
  "kernelspec": {
   "display_name": "Python 2",
   "language": "python",
   "name": "python2"
  },
  "language_info": {
   "codemirror_mode": {
    "name": "ipython",
    "version": 2
   },
   "file_extension": ".py",
   "mimetype": "text/x-python",
   "name": "python",
   "nbconvert_exporter": "python",
   "pygments_lexer": "ipython2",
   "version": "2.7.11"
  }
 },
 "nbformat": 4,
 "nbformat_minor": 2
}
