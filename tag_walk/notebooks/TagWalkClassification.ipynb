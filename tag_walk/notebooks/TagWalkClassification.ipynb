{
 "cells": [
  {
   "cell_type": "code",
   "execution_count": 25,
   "metadata": {
    "ExecuteTime": {
     "end_time": "2017-09-08T09:03:35.556508Z",
     "start_time": "2017-09-08T09:03:35.318351Z"
    }
   },
   "outputs": [
    {
     "name": "stdout",
     "output_type": "stream",
     "text": [
      "The autoreload extension is already loaded. To reload it, use:\n",
      "  %reload_ext autoreload\n",
      "Populating the interactive namespace from numpy and matplotlib\n"
     ]
    }
   ],
   "source": [
    "%load_ext autoreload\n",
    "%autoreload 2\n",
    "%pylab inline\n",
    "%matplotlib inline"
   ]
  },
  {
   "cell_type": "code",
   "execution_count": 26,
   "metadata": {
    "ExecuteTime": {
     "end_time": "2017-09-08T09:03:36.469951Z",
     "start_time": "2017-09-08T09:03:36.449940Z"
    },
    "collapsed": true
   },
   "outputs": [],
   "source": [
    "import sys\n",
    "\n",
    "import torch\n",
    "import torch.nn as nn\n",
    "import torch.optim as optim\n",
    "from torch.autograd import Variable\n",
    "\n",
    "import torchvision\n",
    "import torchvision.transforms as transforms\n",
    "sys.path.append(\"/Users/gregoirelejay/dev/personal/tag_walk/tag_walk\") "
   ]
  },
  {
   "cell_type": "code",
   "execution_count": 34,
   "metadata": {
    "ExecuteTime": {
     "end_time": "2017-09-06T14:15:41.978550Z",
     "start_time": "2017-09-06T14:15:41.953042Z"
    },
    "collapsed": true
   },
   "outputs": [],
   "source": [
    "# import torchvision\n",
    "# import matplotlib.pyplot as plt\n",
    "# import numpy as np\n",
    "\n",
    "# to_pl = transforms.ToPILImage()\n",
    "# plt.imshow(to_pl(tw_dataset[0][0]))"
   ]
  },
  {
   "cell_type": "markdown",
   "metadata": {},
   "source": [
    "# Inspecting the model"
   ]
  },
  {
   "cell_type": "code",
   "execution_count": 19,
   "metadata": {
    "ExecuteTime": {
     "end_time": "2017-09-07T23:21:04.998480Z",
     "start_time": "2017-09-07T23:21:00.735275Z"
    }
   },
   "outputs": [
    {
     "name": "stderr",
     "output_type": "stream",
     "text": [
      "2017-09-08 00:21:04 Chromecast.home root[94629] INFO Trying to load ../data/training_logs/TagWalkClassifier__306feb6.pkl\n"
     ]
    },
    {
     "name": "stdout",
     "output_type": "stream",
     "text": [
      "Dataset sizes:\n",
      "    Train:      (19516,)\n",
      "    Validation: (4879,)\n",
      "    Test:       (4879,)\n"
     ]
    }
   ],
   "source": [
    "from fachung.models.tagwalk_classifier import TagWalkClassifier\n",
    "\n",
    "BASIC_CONFIG = {\n",
    "    'batch_size': 4,\n",
    "    'num_epochs': 2,\n",
    "    'output_dir': '../data/training_logs',\n",
    "    'debug': False,\n",
    "    'reset': False,\n",
    "    'data_path': '../data/tag_walk/',\n",
    "    'model_id': \"306feb6\"\n",
    "}\n",
    "\n",
    "tw_class = TagWalkClassifier(BASIC_CONFIG)\n",
    "tw_class.read_model()"
   ]
  },
  {
   "cell_type": "code",
   "execution_count": 18,
   "metadata": {
    "ExecuteTime": {
     "end_time": "2017-09-07T22:56:18.843166Z",
     "start_time": "2017-09-07T22:56:17.992625Z"
    }
   },
   "outputs": [
    {
     "data": {
      "image/png": "[encoded data removed]",
      "text/plain": [
       "<matplotlib.figure.Figure at 0x117488fd0>"
      ]
     },
     "metadata": {},
     "output_type": "display_data"
    },
    {
     "data": {
      "text/plain": [
       "<ggplot: (-9223372036558118340)>"
      ]
     },
     "execution_count": 18,
     "metadata": {},
     "output_type": "execute_result"
    }
   ],
   "source": [
    "import plotnine as gg\n",
    "import pandas as pd\n",
    "\n",
    "\n",
    "df = pd.DataFrame({'loss':tw_class.history['loss']})\n",
    "df['index'] = df.index\n",
    "gg.ggplot(df) + gg.geom_line(gg.aes(x='index', y='loss')) + gg.theme_538()"
   ]
  },
  {
   "cell_type": "code",
   "execution_count": 23,
   "metadata": {
    "ExecuteTime": {
     "end_time": "2017-09-07T23:23:23.225451Z",
     "start_time": "2017-09-07T23:23:23.179231Z"
    }
   },
   "outputs": [],
   "source": [
    "test_loader = tw_class.loader_dict['testing']\n",
    "model = tw_class.model\n",
    "classes = tw_class.classes\n",
    "\n",
    "to_pl = transforms.ToPILImage()\n",
    "\n",
    "import torch.nn.functional as F\n",
    "\n",
    "model.eval()\n",
    "\n",
    "def visualize_model(model, num_images=6):\n",
    "    images_so_far = 0\n",
    "    fig = plt.figure()\n",
    "\n",
    "    for i, data in enumerate(test_loader):\n",
    "        inputs, labels, img_path = data\n",
    "        inputs, labels = Variable(inputs), Variable(labels)\n",
    "\n",
    "        outputs = F.sigmoid(model(inputs))\n",
    "        print(outputs)\n",
    "        print(F.sigmoid(outputs))\n",
    "        _, preds = torch.max(outputs.data, 1)\n",
    "        \n",
    "        output_mat = outputs.data.cpu().numpy()\n",
    "        target_mat = labels.data.cpu().numpy()\n",
    "        for batch_id in range(output_mat.shape[0]):\n",
    "            print(\"-------\")\n",
    "            max_idx = np.argpartition(output_mat[batch_id], 10)[:10]\n",
    "            print(max_idx)\n",
    "            print(\"IMG: %s \\n Predicted: %s \\n Truth: %s\" % (\n",
    "                img_path[batch_id],\n",
    "                classes[max_idx],\n",
    "                classes[\n",
    "                    np.where(target_mat[batch_id] == 1)\n",
    "                ]))\n",
    "            print(\"ALT:\")\n",
    "            max_idx = np.where(output_mat[batch_id] > 0.5)\n",
    "            print(max_idx)\n",
    "            print(\"IMG: %s \\n Predicted: %s \\n Truth: %s\" % (\n",
    "                img_path[batch_id],\n",
    "                classes[max_idx],\n",
    "                classes[\n",
    "                    np.where(target_mat[batch_id] == 1)\n",
    "                ]))\n",
    "        break"
   ]
  },
  {
   "cell_type": "code",
   "execution_count": 24,
   "metadata": {
    "ExecuteTime": {
     "end_time": "2017-09-07T23:23:25.200385Z",
     "start_time": "2017-09-07T23:23:23.913127Z"
    }
   },
   "outputs": [
    {
     "name": "stdout",
     "output_type": "stream",
     "text": [
      "Variable containing:\n",
      " 0.0458  0.0572  0.0484  ...   0.0456  0.0632  0.0758\n",
      " 0.0528  0.0655  0.0768  ...   0.0480  0.0862  0.0672\n",
      " 0.0911  0.0653  0.0551  ...   0.0934  0.0749  0.1201\n",
      " 0.1250  0.0914  0.0855  ...   0.1250  0.1152  0.1153\n",
      "[torch.FloatTensor of size 4x655]\n",
      "\n",
      "Variable containing:\n",
      " 0.5114  0.5143  0.5121  ...   0.5114  0.5158  0.5189\n",
      " 0.5132  0.5164  0.5192  ...   0.5120  0.5215  0.5168\n",
      " 0.5228  0.5163  0.5138  ...   0.5233  0.5187  0.5300\n",
      " 0.5312  0.5228  0.5214  ...   0.5312  0.5288  0.5288\n",
      "[torch.FloatTensor of size 4x655]\n",
      "\n",
      "-------\n",
      "[449  24  17 157 561 330  68 338 351 293]\n",
      "IMG: ../data/tag_walk/images/all/LOOK20.jpg \n",
      " Predicted: ['pink-trousers' 'autumn' 'architecture' 'crochet' 'stones' 'large'\n",
      " 'bleached-denim' 'leather-pants' 'logo-tee-shirt' 'horizontal-stripes'] \n",
      " Truth: ['blue' 'embellishment' 'floral' 'nautical' 'navy-blue' 'pants' 'pattern'\n",
      " 'seaside' 'shoulder-pads' 'top' 'trousers']\n",
      "ALT:\n",
      "(array([], dtype=int64),)\n",
      "IMG: ../data/tag_walk/images/all/LOOK20.jpg \n",
      " Predicted: [] \n",
      " Truth: ['blue' 'embellishment' 'floral' 'nautical' 'navy-blue' 'pants' 'pattern'\n",
      " 'seaside' 'shoulder-pads' 'top' 'trousers']\n",
      "-------\n",
      "[365  47 509 393 434 392 452 652 532 383]\n",
      "IMG: ../data/tag_walk/images/all/Versace  SS17 0047.jpg \n",
      " Predicted: ['metal' 'bell' 'roses' 'navy-blue-pants' 'peplum' 'navy-blue-jacket'\n",
      " 'plastic' 'ziggy' 'shaped-coat' 'mountain'] \n",
      " Truth: ['black-dress' 'cocktail' 'dress' 'glitter' 'midi-dress'\n",
      " 'plunging-neckline' 'red-carpet' 'sheer' 'silk' 'slit' 'strict'\n",
      " 'transparent' 'wrap']\n",
      "ALT:\n",
      "(array([], dtype=int64),)\n",
      "IMG: ../data/tag_walk/images/all/Versace  SS17 0047.jpg \n",
      " Predicted: [] \n",
      " Truth: ['black-dress' 'cocktail' 'dress' 'glitter' 'midi-dress'\n",
      " 'plunging-neckline' 'red-carpet' 'sheer' 'silk' 'slit' 'strict'\n",
      " 'transparent' 'wrap']\n",
      "-------\n",
      "[582 402   2 171 156 551 469 125 258 118]\n",
      "IMG: ../data/tag_walk/images/all/proenza_schouler_aw17_0008.jpg \n",
      " Predicted: ['taylor' 'opal' '1950' 'degrade' 'cricket' 'slippers' 'prince' 'capri'\n",
      " 'green-coat' 'bustier'] \n",
      " Truth: ['coat' 'extra-long-sleeves' 'eyelet' 'gray' 'grey' 'grey-coat'\n",
      " 'grey-pants' 'grey-trousers' 'logo' 'oversize' 'oversize-coat' 'pants'\n",
      " 'strict' 'total-look' 'trousers' 'zip']\n",
      "ALT:\n",
      "(array([], dtype=int64),)\n",
      "IMG: ../data/tag_walk/images/all/proenza_schouler_aw17_0008.jpg \n",
      " Predicted: [] \n",
      " Truth: ['coat' 'extra-long-sleeves' 'eyelet' 'gray' 'grey' 'grey-coat'\n",
      " 'grey-pants' 'grey-trousers' 'logo' 'oversize' 'oversize-coat' 'pants'\n",
      " 'strict' 'total-look' 'trousers' 'zip']\n",
      "-------\n",
      "[394 532 152 478   8 494 517 268 581 486]\n",
      "IMG: ../data/tag_walk/images/all/Nina Ricci SS17 0019.jpg \n",
      " Predicted: ['neoprene' 'shaped-coat' 'cowboy' 'punched' 'alpina' 'red-jumper' 's-m'\n",
      " 'grey-jumper' 'tassel' 'raincoat'] \n",
      " Truth: ['brown' 'flash' 'leather' 'pants' 'pocket' 'purple' 'strict' 'trousers'\n",
      " 'utility' 'wide-leg-oversize-pants']\n",
      "ALT:\n",
      "(array([], dtype=int64),)\n",
      "IMG: ../data/tag_walk/images/all/Nina Ricci SS17 0019.jpg \n",
      " Predicted: [] \n",
      " Truth: ['brown' 'flash' 'leather' 'pants' 'pocket' 'purple' 'strict' 'trousers'\n",
      " 'utility' 'wide-leg-oversize-pants']\n"
     ]
    },
    {
     "data": {
      "text/plain": [
       "<matplotlib.figure.Figure at 0x111ebea58>"
      ]
     },
     "metadata": {},
     "output_type": "display_data"
    }
   ],
   "source": [
    "visualize_model(model)"
   ]
  },
  {
   "cell_type": "code",
   "execution_count": 63,
   "metadata": {
    "ExecuteTime": {
     "end_time": "2017-09-06T15:23:59.650058Z",
     "start_time": "2017-09-06T15:23:59.578142Z"
    },
    "collapsed": true
   },
   "outputs": [],
   "source": [
    "from graphviz import Digraph\n",
    "import re\n",
    "import torch\n",
    "import torch.nn.functional as F\n",
    "from torch.autograd import Variable\n",
    "import torchvision.models as models\n",
    "\n",
    "\n",
    "def make_dot(var, params):\n",
    "    param_map = {id(v): k for k, v in params.items()}\n",
    "    \n",
    "    node_attr = dict(style='filled',\n",
    "                     shape='box',\n",
    "                     align='left',\n",
    "                     fontsize='12',\n",
    "                     ranksep='0.1',\n",
    "                     height='0.2')\n",
    "    dot = Digraph(node_attr=node_attr, graph_attr=dict(size=\"12,12\"))\n",
    "    seen = set()\n",
    "    \n",
    "    def size_to_str(size):\n",
    "        return '('+(', ').join(['%d'% v for v in size])+')'\n",
    "\n",
    "    def add_nodes(var):\n",
    "        if var not in seen:\n",
    "            if torch.is_tensor(var):\n",
    "                dot.node(str(id(var)), size_to_str(var.size()), fillcolor='orange')\n",
    "            elif hasattr(var, 'variable'):\n",
    "                u = var.variable\n",
    "                node_name = '%s\\n %s' % (param_map.get(id(u)), size_to_str(u.size()))\n",
    "                dot.node(str(id(var)), node_name, fillcolor='lightblue')\n",
    "            else:\n",
    "                dot.node(str(id(var)), str(type(var).__name__))\n",
    "            seen.add(var)\n",
    "            if hasattr(var, 'next_functions'):\n",
    "                for u in var.next_functions:\n",
    "                    if u[0] is not None:\n",
    "                        dot.edge(str(id(u[0])), str(id(var)))\n",
    "                        add_nodes(u[0])\n",
    "            if hasattr(var, 'saved_tensors'):\n",
    "                for t in var.saved_tensors:\n",
    "                    dot.edge(str(id(t)), str(id(var)))\n",
    "                    add_nodes(t)\n",
    "    add_nodes(var.grad_fn)\n",
    "    return dot"
   ]
  },
  {
   "cell_type": "code",
   "execution_count": 75,
   "metadata": {
    "ExecuteTime": {
     "end_time": "2017-09-06T15:49:43.279775Z",
     "start_time": "2017-09-06T15:49:43.242973Z"
    }
   },
   "outputs": [
    {
     "name": "stdout",
     "output_type": "stream",
     "text": [
      "ResNet (\n",
      "  (conv1): Conv2d(3, 64, kernel_size=(7, 7), stride=(2, 2), padding=(3, 3), bias=False)\n",
      "  (bn1): BatchNorm2d(64, eps=1e-05, momentum=0.1, affine=True)\n",
      "  (relu): ReLU (inplace)\n",
      "  (maxpool): MaxPool2d (size=(3, 3), stride=(2, 2), padding=(1, 1), dilation=(1, 1))\n",
      "  (layer1): Sequential (\n",
      "    (0): BasicBlock (\n",
      "      (conv1): Conv2d(64, 64, kernel_size=(3, 3), stride=(1, 1), padding=(1, 1), bias=False)\n",
      "      (bn1): BatchNorm2d(64, eps=1e-05, momentum=0.1, affine=True)\n",
      "      (relu): ReLU (inplace)\n",
      "      (conv2): Conv2d(64, 64, kernel_size=(3, 3), stride=(1, 1), padding=(1, 1), bias=False)\n",
      "      (bn2): BatchNorm2d(64, eps=1e-05, momentum=0.1, affine=True)\n",
      "    )\n",
      "    (1): BasicBlock (\n",
      "      (conv1): Conv2d(64, 64, kernel_size=(3, 3), stride=(1, 1), padding=(1, 1), bias=False)\n",
      "      (bn1): BatchNorm2d(64, eps=1e-05, momentum=0.1, affine=True)\n",
      "      (relu): ReLU (inplace)\n",
      "      (conv2): Conv2d(64, 64, kernel_size=(3, 3), stride=(1, 1), padding=(1, 1), bias=False)\n",
      "      (bn2): BatchNorm2d(64, eps=1e-05, momentum=0.1, affine=True)\n",
      "    )\n",
      "  )\n",
      "  (layer2): Sequential (\n",
      "    (0): BasicBlock (\n",
      "      (conv1): Conv2d(64, 128, kernel_size=(3, 3), stride=(2, 2), padding=(1, 1), bias=False)\n",
      "      (bn1): BatchNorm2d(128, eps=1e-05, momentum=0.1, affine=True)\n",
      "      (relu): ReLU (inplace)\n",
      "      (conv2): Conv2d(128, 128, kernel_size=(3, 3), stride=(1, 1), padding=(1, 1), bias=False)\n",
      "      (bn2): BatchNorm2d(128, eps=1e-05, momentum=0.1, affine=True)\n",
      "      (downsample): Sequential (\n",
      "        (0): Conv2d(64, 128, kernel_size=(1, 1), stride=(2, 2), bias=False)\n",
      "        (1): BatchNorm2d(128, eps=1e-05, momentum=0.1, affine=True)\n",
      "      )\n",
      "    )\n",
      "    (1): BasicBlock (\n",
      "      (conv1): Conv2d(128, 128, kernel_size=(3, 3), stride=(1, 1), padding=(1, 1), bias=False)\n",
      "      (bn1): BatchNorm2d(128, eps=1e-05, momentum=0.1, affine=True)\n",
      "      (relu): ReLU (inplace)\n",
      "      (conv2): Conv2d(128, 128, kernel_size=(3, 3), stride=(1, 1), padding=(1, 1), bias=False)\n",
      "      (bn2): BatchNorm2d(128, eps=1e-05, momentum=0.1, affine=True)\n",
      "    )\n",
      "  )\n",
      "  (layer3): Sequential (\n",
      "    (0): BasicBlock (\n",
      "      (conv1): Conv2d(128, 256, kernel_size=(3, 3), stride=(2, 2), padding=(1, 1), bias=False)\n",
      "      (bn1): BatchNorm2d(256, eps=1e-05, momentum=0.1, affine=True)\n",
      "      (relu): ReLU (inplace)\n",
      "      (conv2): Conv2d(256, 256, kernel_size=(3, 3), stride=(1, 1), padding=(1, 1), bias=False)\n",
      "      (bn2): BatchNorm2d(256, eps=1e-05, momentum=0.1, affine=True)\n",
      "      (downsample): Sequential (\n",
      "        (0): Conv2d(128, 256, kernel_size=(1, 1), stride=(2, 2), bias=False)\n",
      "        (1): BatchNorm2d(256, eps=1e-05, momentum=0.1, affine=True)\n",
      "      )\n",
      "    )\n",
      "    (1): BasicBlock (\n",
      "      (conv1): Conv2d(256, 256, kernel_size=(3, 3), stride=(1, 1), padding=(1, 1), bias=False)\n",
      "      (bn1): BatchNorm2d(256, eps=1e-05, momentum=0.1, affine=True)\n",
      "      (relu): ReLU (inplace)\n",
      "      (conv2): Conv2d(256, 256, kernel_size=(3, 3), stride=(1, 1), padding=(1, 1), bias=False)\n",
      "      (bn2): BatchNorm2d(256, eps=1e-05, momentum=0.1, affine=True)\n",
      "    )\n",
      "  )\n",
      "  (layer4): Sequential (\n",
      "    (0): BasicBlock (\n",
      "      (conv1): Conv2d(256, 512, kernel_size=(3, 3), stride=(2, 2), padding=(1, 1), bias=False)\n",
      "      (bn1): BatchNorm2d(512, eps=1e-05, momentum=0.1, affine=True)\n",
      "      (relu): ReLU (inplace)\n",
      "      (conv2): Conv2d(512, 512, kernel_size=(3, 3), stride=(1, 1), padding=(1, 1), bias=False)\n",
      "      (bn2): BatchNorm2d(512, eps=1e-05, momentum=0.1, affine=True)\n",
      "      (downsample): Sequential (\n",
      "        (0): Conv2d(256, 512, kernel_size=(1, 1), stride=(2, 2), bias=False)\n",
      "        (1): BatchNorm2d(512, eps=1e-05, momentum=0.1, affine=True)\n",
      "      )\n",
      "    )\n",
      "    (1): BasicBlock (\n",
      "      (conv1): Conv2d(512, 512, kernel_size=(3, 3), stride=(1, 1), padding=(1, 1), bias=False)\n",
      "      (bn1): BatchNorm2d(512, eps=1e-05, momentum=0.1, affine=True)\n",
      "      (relu): ReLU (inplace)\n",
      "      (conv2): Conv2d(512, 512, kernel_size=(3, 3), stride=(1, 1), padding=(1, 1), bias=False)\n",
      "      (bn2): BatchNorm2d(512, eps=1e-05, momentum=0.1, affine=True)\n",
      "    )\n",
      "  )\n",
      "  (avgpool): AvgPool2d (size=7, stride=7, padding=0, ceil_mode=False, count_include_pad=True)\n",
      "  (fc): Linear (512 -> 655)\n",
      ")\n"
     ]
    }
   ],
   "source": [
    "print(model)"
   ]
  },
  {
   "cell_type": "code",
   "execution_count": 90,
   "metadata": {
    "ExecuteTime": {
     "end_time": "2017-09-06T15:57:00.947389Z",
     "start_time": "2017-09-06T15:57:00.909503Z"
    },
    "collapsed": true
   },
   "outputs": [],
   "source": [
    "feature_extractor = nn.Sequential(*list(model.children())[:-2])\n",
    "class_weighter = nn.Sequential(*list(model.children())[:-1])"
   ]
  },
  {
   "cell_type": "code",
   "execution_count": 95,
   "metadata": {
    "ExecuteTime": {
     "end_time": "2017-09-06T16:00:55.231374Z",
     "start_time": "2017-09-06T16:00:53.954205Z"
    }
   },
   "outputs": [
    {
     "name": "stdout",
     "output_type": "stream",
     "text": [
      "[[ 3.87931633  5.43117428  6.84020615  6.50841045  5.09973955  4.35748005\n",
      "   3.21372366]\n",
      " [ 5.29686403  7.32127953  6.90454388  7.26271152  3.27393198  5.13797903\n",
      "   5.78631496]\n",
      " [ 5.2273345   8.31282234  9.40685463  7.79715776  4.04397964  4.48907471\n",
      "   4.51025343]\n",
      " [ 5.0350976   7.98308754  8.39721012  6.66860056  2.60615182  3.08070183\n",
      "   2.16655469]\n",
      " [ 6.47694683  9.47051239  4.96564531  4.74222994  1.97507548  0.4090479\n",
      "   0.23092116]\n",
      " [ 8.03375721  8.06864262  3.47712088  3.40786695  1.78303087  1.82380354\n",
      "   2.00484848]\n",
      " [ 5.27673721  5.5357976   3.49029684  2.52119875  0.68547672  0.\n",
      "   0.70518965]]\n"
     ]
    }
   ],
   "source": [
    "import numpy as np\n",
    "for i, data in enumerate(test_loader):\n",
    "    inputs, labels, img_path = data\n",
    "    inputs, labels = Variable(inputs), Variable(labels)\n",
    "\n",
    "    outputs = feature_extractor(inputs)\n",
    "    class_weights = class_weighter(inputs)\n",
    "    conv_outputs = outputs[0].data.cpu().numpy()\n",
    "    cam = np.zeros(dtype = np.float32, shape = conv_outputs.shape[1:3])\n",
    "#     print(cam)\n",
    "#     print(class_weights)\n",
    "    target_class = 1\n",
    "    for i, w in enumerate(class_weights[:, target_class]):\n",
    "        cam +=  conv_outputs[i, :, :]\n",
    "    print(cam)\n",
    "    break"
   ]
  },
  {
   "cell_type": "code",
   "execution_count": 34,
   "metadata": {
    "ExecuteTime": {
     "end_time": "2017-09-08T09:10:18.416404Z",
     "start_time": "2017-09-08T09:10:16.095414Z"
    }
   },
   "outputs": [
    {
     "name": "stdout",
     "output_type": "stream",
     "text": [
      "(array([ 19,  70,  75,  79, 222, 384, 386, 389, 423, 431, 472, 537, 586, 602]),)\n"
     ]
    },
    {
     "data": {
      "text/plain": [
       "(\n",
       " ( 0 ,.,.) = \n",
       "   0.4851  0.4851  0.4851  ...  -0.5938 -0.5767 -0.5767\n",
       "   0.4851  0.4851  0.4851  ...  -0.5938 -0.5938 -0.5767\n",
       "   0.5193  0.5193  0.5193  ...  -0.6109 -0.6109 -0.5938\n",
       "            ...             ⋱             ...          \n",
       "   0.9988  0.9988  1.0159  ...  -1.9980 -1.9980 -2.0152\n",
       "   0.9817  0.9988  0.9988  ...  -2.0323 -2.0323 -2.0494\n",
       "   0.9817  0.9817  0.9988  ...  -2.0323 -2.0323 -2.0494\n",
       " \n",
       " ( 1 ,.,.) = \n",
       "  -1.5455 -1.5455 -1.5455  ...  -0.7577 -0.7402 -0.7402\n",
       "  -1.5455 -1.5455 -1.5455  ...  -0.7577 -0.7577 -0.7402\n",
       "  -1.5455 -1.5455 -1.5455  ...  -0.7752 -0.7752 -0.7577\n",
       "            ...             ⋱             ...          \n",
       "  -1.3004 -1.3004 -1.2829  ...  -1.9132 -1.9132 -1.9307\n",
       "  -1.3179 -1.3004 -1.3004  ...  -1.9482 -1.9482 -1.9657\n",
       "  -1.3179 -1.3179 -1.3004  ...  -1.9482 -1.9482 -1.9657\n",
       " \n",
       " ( 2 ,.,.) = \n",
       "  -1.1421 -1.1421 -1.1421  ...  -0.8110 -0.7936 -0.7936\n",
       "  -1.1421 -1.1421 -1.1421  ...  -0.8110 -0.8110 -0.7936\n",
       "  -1.1247 -1.1247 -1.1247  ...  -0.8284 -0.8284 -0.8110\n",
       "            ...             ⋱             ...          \n",
       "  -0.9156 -0.9156 -0.8981  ...  -1.6476 -1.6476 -1.6650\n",
       "  -0.9330 -0.9156 -0.9156  ...  -1.6824 -1.6824 -1.6999\n",
       "  -0.9330 -0.9330 -0.9156  ...  -1.6824 -1.6824 -1.6999\n",
       " [torch.FloatTensor of size 3x224x224],\n",
       " array([ 0.,  0.,  0.,  0.,  0.,  0.,  0.,  0.,  0.,  0.,  0.,  0.,  0.,\n",
       "         0.,  0.,  0.,  0.,  0.,  0.,  1.,  0.,  0.,  0.,  0.,  0.,  0.,\n",
       "         0.,  0.,  0.,  0.,  0.,  0.,  0.,  0.,  0.,  0.,  0.,  0.,  0.,\n",
       "         0.,  0.,  0.,  0.,  0.,  0.,  0.,  0.,  0.,  0.,  0.,  0.,  0.,\n",
       "         0.,  0.,  0.,  0.,  0.,  0.,  0.,  0.,  0.,  0.,  0.,  0.,  0.,\n",
       "         0.,  0.,  0.,  0.,  0.,  1.,  0.,  0.,  0.,  0.,  1.,  0.,  0.,\n",
       "         0.,  1.,  0.,  0.,  0.,  0.,  0.,  0.,  0.,  0.,  0.,  0.,  0.,\n",
       "         0.,  0.,  0.,  0.,  0.,  0.,  0.,  0.,  0.,  0.,  0.,  0.,  0.,\n",
       "         0.,  0.,  0.,  0.,  0.,  0.,  0.,  0.,  0.,  0.,  0.,  0.,  0.,\n",
       "         0.,  0.,  0.,  0.,  0.,  0.,  0.,  0.,  0.,  0.,  0.,  0.,  0.,\n",
       "         0.,  0.,  0.,  0.,  0.,  0.,  0.,  0.,  0.,  0.,  0.,  0.,  0.,\n",
       "         0.,  0.,  0.,  0.,  0.,  0.,  0.,  0.,  0.,  0.,  0.,  0.,  0.,\n",
       "         0.,  0.,  0.,  0.,  0.,  0.,  0.,  0.,  0.,  0.,  0.,  0.,  0.,\n",
       "         0.,  0.,  0.,  0.,  0.,  0.,  0.,  0.,  0.,  0.,  0.,  0.,  0.,\n",
       "         0.,  0.,  0.,  0.,  0.,  0.,  0.,  0.,  0.,  0.,  0.,  0.,  0.,\n",
       "         0.,  0.,  0.,  0.,  0.,  0.,  0.,  0.,  0.,  0.,  0.,  0.,  0.,\n",
       "         0.,  0.,  0.,  0.,  0.,  0.,  0.,  0.,  0.,  0.,  0.,  0.,  0.,\n",
       "         0.,  1.,  0.,  0.,  0.,  0.,  0.,  0.,  0.,  0.,  0.,  0.,  0.,\n",
       "         0.,  0.,  0.,  0.,  0.,  0.,  0.,  0.,  0.,  0.,  0.,  0.,  0.,\n",
       "         0.,  0.,  0.,  0.,  0.,  0.,  0.,  0.,  0.,  0.,  0.,  0.,  0.,\n",
       "         0.,  0.,  0.,  0.,  0.,  0.,  0.,  0.,  0.,  0.,  0.,  0.,  0.,\n",
       "         0.,  0.,  0.,  0.,  0.,  0.,  0.,  0.,  0.,  0.,  0.,  0.,  0.,\n",
       "         0.,  0.,  0.,  0.,  0.,  0.,  0.,  0.,  0.,  0.,  0.,  0.,  0.,\n",
       "         0.,  0.,  0.,  0.,  0.,  0.,  0.,  0.,  0.,  0.,  0.,  0.,  0.,\n",
       "         0.,  0.,  0.,  0.,  0.,  0.,  0.,  0.,  0.,  0.,  0.,  0.,  0.,\n",
       "         0.,  0.,  0.,  0.,  0.,  0.,  0.,  0.,  0.,  0.,  0.,  0.,  0.,\n",
       "         0.,  0.,  0.,  0.,  0.,  0.,  0.,  0.,  0.,  0.,  0.,  0.,  0.,\n",
       "         0.,  0.,  0.,  0.,  0.,  0.,  0.,  0.,  0.,  0.,  0.,  0.,  0.,\n",
       "         0.,  0.,  0.,  0.,  0.,  0.,  0.,  0.,  0.,  0.,  0.,  0.,  0.,\n",
       "         0.,  0.,  0.,  0.,  0.,  0.,  0.,  1.,  0.,  1.,  0.,  0.,  1.,\n",
       "         0.,  0.,  0.,  0.,  0.,  0.,  0.,  0.,  0.,  0.,  0.,  0.,  0.,\n",
       "         0.,  0.,  0.,  0.,  0.,  0.,  0.,  0.,  0.,  0.,  0.,  0.,  0.,\n",
       "         0.,  0.,  0.,  0.,  0.,  0.,  0.,  1.,  0.,  0.,  0.,  0.,  0.,\n",
       "         0.,  0.,  1.,  0.,  0.,  0.,  0.,  0.,  0.,  0.,  0.,  0.,  0.,\n",
       "         0.,  0.,  0.,  0.,  0.,  0.,  0.,  0.,  0.,  0.,  0.,  0.,  0.,\n",
       "         0.,  0.,  0.,  0.,  0.,  0.,  0.,  0.,  0.,  0.,  0.,  0.,  0.,\n",
       "         0.,  0.,  0.,  0.,  1.,  0.,  0.,  0.,  0.,  0.,  0.,  0.,  0.,\n",
       "         0.,  0.,  0.,  0.,  0.,  0.,  0.,  0.,  0.,  0.,  0.,  0.,  0.,\n",
       "         0.,  0.,  0.,  0.,  0.,  0.,  0.,  0.,  0.,  0.,  0.,  0.,  0.,\n",
       "         0.,  0.,  0.,  0.,  0.,  0.,  0.,  0.,  0.,  0.,  0.,  0.,  0.,\n",
       "         0.,  0.,  0.,  0.,  0.,  0.,  0.,  0.,  0.,  0.,  0.,  0.,  0.,\n",
       "         0.,  0.,  0.,  0.,  1.,  0.,  0.,  0.,  0.,  0.,  0.,  0.,  0.,\n",
       "         0.,  0.,  0.,  0.,  0.,  0.,  0.,  0.,  0.,  0.,  0.,  0.,  0.,\n",
       "         0.,  0.,  0.,  0.,  0.,  0.,  0.,  0.,  0.,  0.,  0.,  0.,  0.,\n",
       "         0.,  0.,  0.,  0.,  0.,  0.,  0.,  0.,  0.,  0.,  0.,  0.,  0.,\n",
       "         0.,  1.,  0.,  0.,  0.,  0.,  0.,  0.,  0.,  0.,  0.,  0.,  0.,\n",
       "         0.,  0.,  0.,  0.,  1.,  0.,  0.,  0.,  0.,  0.,  0.,  0.,  0.,\n",
       "         0.,  0.,  0.,  0.,  0.,  0.,  0.,  0.,  0.,  0.,  0.,  0.,  0.,\n",
       "         0.,  0.,  0.,  0.,  0.,  0.,  0.,  0.,  0.,  0.,  0.,  0.,  0.,\n",
       "         0.,  0.,  0.,  0.,  0.,  0.,  0.,  0.,  0.,  0.,  0.,  0.,  0.,\n",
       "         0.,  0.,  0.,  0.,  0.], dtype=float32),\n",
       " '../data/tag_walk/images/all/001-LEONARD_PREFALL17.jpg')"
      ]
     },
     "execution_count": 34,
     "metadata": {},
     "output_type": "execute_result"
    }
   ],
   "source": [
    "from fachung.datasets.tagwalk import TagwalkSequenceDataset\n",
    "\n",
    "NORMALIZE = transforms.Normalize(mean=[0.485, 0.456, 0.406],\n",
    "                                 std=[0.229, 0.224, 0.225])\n",
    "\n",
    "DEFAULT_TRANSFORMS = (\n",
    "    transforms.Compose([\n",
    "        # transforms.RandomSizedCrop(224),\n",
    "        # transforms.RandomHorizontalFlip(),\n",
    "        transforms.Scale((224, 224)),\n",
    "        transforms.ToTensor(),\n",
    "        NORMALIZE\n",
    "    ])\n",
    ")\n",
    "\n",
    "dataset = TagwalkSequenceDataset(\n",
    "    csv_path='../data/tag_walk/' + 'assocs.csv',\n",
    "    img_path='../data/tag_walk/' + 'images/all',\n",
    "    transform=DEFAULT_TRANSFORMS\n",
    ")\n",
    "dataset[1]"
   ]
  },
  {
   "cell_type": "code",
   "execution_count": 35,
   "metadata": {
    "ExecuteTime": {
     "end_time": "2017-09-08T10:41:33.653180Z",
     "start_time": "2017-09-08T10:41:33.574847Z"
    }
   },
   "outputs": [
    {
     "name": "stderr",
     "output_type": "stream",
     "text": [
      "[autoreload of fachung.models.tagwalk_classifier failed: Traceback (most recent call last):\n",
      "  File \"/usr/local/lib/python3.6/site-packages/IPython/extensions/autoreload.py\", line 247, in check\n",
      "    superreload(m, reload, self.old_objects)\n",
      "ImportError: cannot import name 'DEFAULT_TRANSFORMS'\n",
      "]\n"
     ]
    },
    {
     "data": {
      "text/plain": [
       "'{\"test\": true}'"
      ]
     },
     "execution_count": 35,
     "metadata": {},
     "output_type": "execute_result"
    }
   ],
   "source": [
    "import json\n",
    "json.dumps({'test': True})"
   ]
  },
  {
   "cell_type": "code",
   "execution_count": null,
   "metadata": {
    "collapsed": true
   },
   "outputs": [],
   "source": []
  }
 ],
 "metadata": {
  "kernelspec": {
   "display_name": "Python 3",
   "language": "python",
   "name": "python3"
  },
  "language_info": {
   "codemirror_mode": {
    "name": "ipython",
    "version": 3
   },
   "file_extension": ".py",
   "mimetype": "text/x-python",
   "name": "python",
   "nbconvert_exporter": "python",
   "pygments_lexer": "ipython3",
   "version": "3.6.2"
  },
  "toc": {
   "colors": {
    "hover_highlight": "#DAA520",
    "navigate_num": "#000000",
    "navigate_text": "#333333",
    "running_highlight": "#FF0000",
    "selected_highlight": "#FFD700",
    "sidebar_border": "#EEEEEE",
    "wrapper_background": "#FFFFFF"
   },
   "moveMenuLeft": true,
   "nav_menu": {
    "height": "4px",
    "width": "253px"
   },
   "navigate_menu": true,
   "number_sections": true,
   "sideBar": true,
   "threshold": 4,
   "toc_cell": false,
   "toc_section_display": "block",
   "toc_window_display": false,
   "widenNotebook": false
  }
 },
 "nbformat": 4,
 "nbformat_minor": 2
}
