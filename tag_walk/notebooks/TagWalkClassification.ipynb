{
 "cells": [
  {
   "cell_type": "code",
   "execution_count": 1,
   "metadata": {
    "ExecuteTime": {
     "end_time": "2017-07-01T21:43:04.063676Z",
     "start_time": "2017-07-01T21:43:01.160932Z"
    }
   },
   "outputs": [
    {
     "name": "stderr",
     "output_type": "stream",
     "text": [
      "/usr/local/lib/python2.7/site-packages/matplotlib/font_manager.py:273: UserWarning: Matplotlib is building the font cache using fc-list. This may take a moment.\n",
      "  warnings.warn('Matplotlib is building the font cache using fc-list. This may take a moment.')\n"
     ]
    },
    {
     "name": "stdout",
     "output_type": "stream",
     "text": [
      "Populating the interactive namespace from numpy and matplotlib\n"
     ]
    }
   ],
   "source": [
    "%load_ext autoreload\n",
    "%autoreload 2\n",
    "%pylab inline\n",
    "%matplotlib inline"
   ]
  },
  {
   "cell_type": "code",
   "execution_count": 2,
   "metadata": {
    "ExecuteTime": {
     "end_time": "2017-07-01T21:43:06.144865Z",
     "start_time": "2017-07-01T21:43:05.677358Z"
    },
    "collapsed": true
   },
   "outputs": [],
   "source": [
    "import pandas as pd"
   ]
  },
  {
   "cell_type": "code",
   "execution_count": 3,
   "metadata": {
    "ExecuteTime": {
     "end_time": "2017-07-01T21:43:07.304488Z",
     "start_time": "2017-07-01T21:43:06.887859Z"
    },
    "run_control": {
     "marked": true
    }
   },
   "outputs": [
    {
     "data": {
      "text/html": [
       "<div>\n",
       "<style>\n",
       "    .dataframe thead tr:only-child th {\n",
       "        text-align: right;\n",
       "    }\n",
       "\n",
       "    .dataframe thead th {\n",
       "        text-align: left;\n",
       "    }\n",
       "\n",
       "    .dataframe tbody tr th {\n",
       "        vertical-align: top;\n",
       "    }\n",
       "</style>\n",
       "<table border=\"1\" class=\"dataframe\">\n",
       "  <thead>\n",
       "    <tr style=\"text-align: right;\">\n",
       "      <th></th>\n",
       "      <th>Unnamed: 0</th>\n",
       "      <th>tag</th>\n",
       "      <th>image</th>\n",
       "      <th>tag_index</th>\n",
       "    </tr>\n",
       "  </thead>\n",
       "  <tbody>\n",
       "    <tr>\n",
       "      <th>0</th>\n",
       "      <td>0</td>\n",
       "      <td>1920</td>\n",
       "      <td>04.jpg</td>\n",
       "      <td>0</td>\n",
       "    </tr>\n",
       "    <tr>\n",
       "      <th>1</th>\n",
       "      <td>1</td>\n",
       "      <td>1920</td>\n",
       "      <td>06.jpg</td>\n",
       "      <td>0</td>\n",
       "    </tr>\n",
       "    <tr>\n",
       "      <th>2</th>\n",
       "      <td>2</td>\n",
       "      <td>1920</td>\n",
       "      <td>08.jpg</td>\n",
       "      <td>0</td>\n",
       "    </tr>\n",
       "    <tr>\n",
       "      <th>3</th>\n",
       "      <td>3</td>\n",
       "      <td>1920</td>\n",
       "      <td>14234E_FA16_PP_RUNWAY_SHOW_LOOK_51.jpg</td>\n",
       "      <td>0</td>\n",
       "    </tr>\n",
       "    <tr>\n",
       "      <th>4</th>\n",
       "      <td>4</td>\n",
       "      <td>1920</td>\n",
       "      <td>14234E_FA16_PP_RUNWAY_SHOW_LOOK_55.jpg</td>\n",
       "      <td>0</td>\n",
       "    </tr>\n",
       "  </tbody>\n",
       "</table>\n",
       "</div>"
      ],
      "text/plain": [
       "   Unnamed: 0   tag                                   image  tag_index\n",
       "0           0  1920                                  04.jpg          0\n",
       "1           1  1920                                  06.jpg          0\n",
       "2           2  1920                                  08.jpg          0\n",
       "3           3  1920  14234E_FA16_PP_RUNWAY_SHOW_LOOK_51.jpg          0\n",
       "4           4  1920  14234E_FA16_PP_RUNWAY_SHOW_LOOK_55.jpg          0"
      ]
     },
     "execution_count": 3,
     "metadata": {},
     "output_type": "execute_result"
    }
   ],
   "source": [
    "assocs_df = pd.read_csv('../data/tag_walk/assocs.csv')\n",
    "assocs_df['tag'] = assocs_df['tag'].astype('category')\n",
    "assocs_df['tag_index'] = assocs_df['tag'].cat.codes\n",
    "assocs_df.head()"
   ]
  },
  {
   "cell_type": "code",
   "execution_count": 4,
   "metadata": {
    "ExecuteTime": {
     "end_time": "2017-07-01T21:52:33.625996Z",
     "start_time": "2017-07-01T21:43:20.735405Z"
    }
   },
   "outputs": [
    {
     "data": {
      "text/html": [
       "<div>\n",
       "<style>\n",
       "    .dataframe thead tr:only-child th {\n",
       "        text-align: right;\n",
       "    }\n",
       "\n",
       "    .dataframe thead th {\n",
       "        text-align: left;\n",
       "    }\n",
       "\n",
       "    .dataframe tbody tr th {\n",
       "        vertical-align: top;\n",
       "    }\n",
       "</style>\n",
       "<table border=\"1\" class=\"dataframe\">\n",
       "  <thead>\n",
       "    <tr style=\"text-align: right;\">\n",
       "      <th></th>\n",
       "      <th>image</th>\n",
       "      <th>tags</th>\n",
       "    </tr>\n",
       "  </thead>\n",
       "  <tbody>\n",
       "    <tr>\n",
       "      <th>0</th>\n",
       "      <td>Jour Ne SS17 0071.jpg</td>\n",
       "      <td>[light-blue, pants, pinstripe, shirt, suit, to...</td>\n",
       "    </tr>\n",
       "    <tr>\n",
       "      <th>1</th>\n",
       "      <td>N21-10.jpg</td>\n",
       "      <td>[beige, beige-coat, belted, coat, embellishmen...</td>\n",
       "    </tr>\n",
       "    <tr>\n",
       "      <th>2</th>\n",
       "      <td>VANESSA SEWARD FW16-13.jpg</td>\n",
       "      <td>[1970, mustard, retro, skirt]</td>\n",
       "    </tr>\n",
       "    <tr>\n",
       "      <th>3</th>\n",
       "      <td>sies_marjan_aw17_0022.jpg</td>\n",
       "      <td>[dress, mini-dress, minimal, navy-blue, navy-b...</td>\n",
       "    </tr>\n",
       "    <tr>\n",
       "      <th>4</th>\n",
       "      <td>burberry_aw17_0069.jpg</td>\n",
       "      <td>[dress, extra-long-sleeves, mini-dress, oversi...</td>\n",
       "    </tr>\n",
       "  </tbody>\n",
       "</table>\n",
       "</div>"
      ],
      "text/plain": [
       "                        image  \\\n",
       "0       Jour Ne SS17 0071.jpg   \n",
       "1                  N21-10.jpg   \n",
       "2  VANESSA SEWARD FW16-13.jpg   \n",
       "3   sies_marjan_aw17_0022.jpg   \n",
       "4      burberry_aw17_0069.jpg   \n",
       "\n",
       "                                                tags  \n",
       "0  [light-blue, pants, pinstripe, shirt, suit, to...  \n",
       "1  [beige, beige-coat, belted, coat, embellishmen...  \n",
       "2                      [1970, mustard, retro, skirt]  \n",
       "3  [dress, mini-dress, minimal, navy-blue, navy-b...  \n",
       "4  [dress, extra-long-sleeves, mini-dress, oversi...  "
      ]
     },
     "execution_count": 4,
     "metadata": {},
     "output_type": "execute_result"
    }
   ],
   "source": [
    "grouped_images = {}\n",
    "\n",
    "for _, row in assocs_df.iterrows():\n",
    "    image = row.image\n",
    "    if not image in grouped_images.keys():\n",
    "        grouped_images[image] = []\n",
    "    grouped_images[image].append(row.tag)\n",
    "    \n",
    "tagged_images_df = pd.DataFrame({\n",
    "    'image': grouped_images.keys(),\n",
    "    'tags': grouped_images.values()\n",
    "})\n",
    "\n",
    "tagged_images_df.head()"
   ]
  },
  {
   "cell_type": "code",
   "execution_count": 5,
   "metadata": {
    "ExecuteTime": {
     "end_time": "2017-07-01T21:52:33.974086Z",
     "start_time": "2017-07-01T21:52:33.728590Z"
    }
   },
   "outputs": [
    {
     "name": "stdout",
     "output_type": "stream",
     "text": [
      "Number of tags in dataset: 655\n",
      "Number of images in dataset: 29274\n"
     ]
    }
   ],
   "source": [
    "n_tags = len(assocs_df.tag.drop_duplicates())\n",
    "n_images = len(assocs_df.image.drop_duplicates())\n",
    "print \"Number of tags in dataset: %s\" %( n_tags )\n",
    "print \"Number of images in dataset: %s\" % ( n_images )\n"
   ]
  },
  {
   "cell_type": "code",
   "execution_count": 6,
   "metadata": {
    "ExecuteTime": {
     "end_time": "2017-07-01T21:52:34.026627Z",
     "start_time": "2017-07-01T21:52:33.977607Z"
    },
    "collapsed": true
   },
   "outputs": [],
   "source": [
    "test_size = tagged_images_df.shape[0] // 3\n",
    "validation_size = test_size // 2"
   ]
  },
  {
   "cell_type": "code",
   "execution_count": 7,
   "metadata": {
    "ExecuteTime": {
     "end_time": "2017-07-01T21:52:34.099417Z",
     "start_time": "2017-07-01T21:52:34.033058Z"
    }
   },
   "outputs": [
    {
     "name": "stdout",
     "output_type": "stream",
     "text": [
      "9758\n",
      "4879\n"
     ]
    }
   ],
   "source": [
    "print test_size\n",
    "print validation_size"
   ]
  },
  {
   "cell_type": "code",
   "execution_count": 8,
   "metadata": {
    "ExecuteTime": {
     "end_time": "2017-07-01T21:52:34.989771Z",
     "start_time": "2017-07-01T21:52:34.140523Z"
    }
   },
   "outputs": [
    {
     "name": "stderr",
     "output_type": "stream",
     "text": [
      "/usr/local/lib/python2.7/site-packages/sklearn/cross_validation.py:44: DeprecationWarning: This module was deprecated in version 0.18 in favor of the model_selection module into which all the refactored classes and functions are moved. Also note that the interface of the new CV iterators are different from that of this module. This module will be removed in 0.20.\n",
      "  \"This module will be removed in 0.20.\", DeprecationWarning)\n"
     ]
    }
   ],
   "source": [
    "from sklearn import cross_validation\n",
    "\n",
    "# Shuffle\n",
    "tagged_images_df = tagged_images_df.sample(frac=1)\n",
    "\n",
    "X_train, X_test, y_train, y_test = (\n",
    "    cross_validation\n",
    "    .train_test_split(tagged_images_df.image, tagged_images_df.tags, test_size=test_size, random_state=42)\n",
    ")\n",
    "\n",
    "X_val, X_test, y_val, y_test = (\n",
    "    cross_validation\n",
    "    .train_test_split(X_test, y_test, test_size=validation_size, random_state=42)\n",
    ")"
   ]
  },
  {
   "cell_type": "code",
   "execution_count": 53,
   "metadata": {
    "ExecuteTime": {
     "end_time": "2017-07-01T20:55:21.262024Z",
     "start_time": "2017-07-01T20:55:20.928626Z"
    },
    "collapsed": true
   },
   "outputs": [],
   "source": [
    "import os\n",
    "from shutil import copyfile\n",
    "\n",
    "\n",
    "def build_data_tree(inputs, labels, name, base_path):\n",
    "    output_path = '/'.join([base_path, name])\n",
    "\n",
    "    inputs_df = pd.DataFrame(inputs, columns = ['image'])\n",
    "    labels_df = pd.DataFrame(labels, columns = ['tags'])\n",
    "    df = pd.concat([inputs_df, labels_df], axis=1)\n",
    "\n",
    "    if not os.path.exists(output_path):\n",
    "        os.makedirs(output_path)\n",
    "\n",
    "    for _, row in df.iterrows():\n",
    "        image = row.image\n",
    "        for tag in row.tags:\n",
    "            tag_path = '/'.join([output_path, tag])\n",
    "            if not os.path.exists(tag_path):\n",
    "                os.makedirs(tag_path)\n",
    "            src = '/'.join([base_path, 'all', image])\n",
    "            dst = '/'.join([tag_path, image])\n",
    "            copyfile(src, dst)"
   ]
  },
  {
   "cell_type": "code",
   "execution_count": 9,
   "metadata": {
    "ExecuteTime": {
     "end_time": "2017-07-01T21:52:35.293335Z",
     "start_time": "2017-07-01T21:52:34.993736Z"
    }
   },
   "outputs": [
    {
     "ename": "NameError",
     "evalue": "name 'build_data_tree' is not defined",
     "output_type": "error",
     "traceback": [
      "\u001b[0;31m---------------------------------------------------------------------------\u001b[0m",
      "\u001b[0;31mNameError\u001b[0m                                 Traceback (most recent call last)",
      "\u001b[0;32m<ipython-input-9-5b3e8e910cb9>\u001b[0m in \u001b[0;36m<module>\u001b[0;34m()\u001b[0m\n\u001b[0;32m----> 1\u001b[0;31m build_data_tree(X_train, y_train,\n\u001b[0m\u001b[1;32m      2\u001b[0m                 \u001b[0;34m'tagged/train'\u001b[0m\u001b[0;34m,\u001b[0m\u001b[0;34m\u001b[0m\u001b[0m\n\u001b[1;32m      3\u001b[0m                 '/Volumes/bobby/tag_walk/tag_walk/data/tag_walk/images/')\n",
      "\u001b[0;31mNameError\u001b[0m: name 'build_data_tree' is not defined"
     ]
    }
   ],
   "source": [
    "build_data_tree(X_train, y_train,\n",
    "                'tagged/train',\n",
    "                '/Volumes/bobby/tag_walk/tag_walk/data/tag_walk/images/')"
   ]
  },
  {
   "cell_type": "code",
   "execution_count": null,
   "metadata": {
    "ExecuteTime": {
     "end_time": "2017-07-01T21:52:35.294399Z",
     "start_time": "2017-07-01T21:45:59.407Z"
    }
   },
   "outputs": [],
   "source": [
    "build_data_tree(X_val, y_val,\n",
    "                'tagged/validation',\n",
    "                '/Volumes/bobby/tag_walk/tag_walk/data/tag_walk/images/')"
   ]
  },
  {
   "cell_type": "code",
   "execution_count": null,
   "metadata": {
    "collapsed": true
   },
   "outputs": [],
   "source": []
  }
 ],
 "metadata": {
  "kernelspec": {
   "display_name": "Python 2",
   "language": "python",
   "name": "python2"
  },
  "language_info": {
   "codemirror_mode": {
    "name": "ipython",
    "version": 2
   },
   "file_extension": ".py",
   "mimetype": "text/x-python",
   "name": "python",
   "nbconvert_exporter": "python",
   "pygments_lexer": "ipython2",
   "version": "2.7.11"
  }
 },
 "nbformat": 4,
 "nbformat_minor": 2
}
