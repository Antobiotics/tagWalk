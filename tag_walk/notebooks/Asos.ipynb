{
 "cells": [
  {
   "cell_type": "code",
   "execution_count": 2,
   "metadata": {
    "ExecuteTime": {
     "end_time": "2017-07-05T19:21:55.127098Z",
     "start_time": "2017-07-05T19:21:54.995551Z"
    },
    "collapsed": true
   },
   "outputs": [],
   "source": [
    "from bs4 import BeautifulSoup as bs\n",
    "import httplib\n",
    "from urllib import urlretrieve\n",
    "from urllib2 import urlopen\n",
    "import re\n",
    "import os"
   ]
  },
  {
   "cell_type": "code",
   "execution_count": 4,
   "metadata": {
    "ExecuteTime": {
     "end_time": "2017-07-05T19:22:16.877158Z",
     "start_time": "2017-07-05T19:22:15.595233Z"
    }
   },
   "outputs": [],
   "source": [
    "page = urlopen(\"http://www.asos.com/women/dresses/cat/pgecategory.aspx?cid=8799#parentID=-1&pge=0&pgeSize=36&sort=-1\")\n",
    "soup = bs(page, \"lxml\")"
   ]
  },
  {
   "cell_type": "code",
   "execution_count": 8,
   "metadata": {
    "ExecuteTime": {
     "end_time": "2017-07-05T19:23:05.611003Z",
     "start_time": "2017-07-05T19:23:05.516842Z"
    }
   },
   "outputs": [
    {
     "data": {
      "text/plain": [
       "[]"
      ]
     },
     "execution_count": 8,
     "metadata": {},
     "output_type": "execute_result"
    }
   ],
   "source": [
    "last_pages = soup.find_all(\"li\", class_=\"last\")\n",
    "last_pages\n",
    "# last_page = int(float(last_pages[1].text))\n",
    "# shop_pages = [\"http://www.lulus.com/categories/page\" + str(i) + \"-60/13/dresses.html\" for i in range(1, last_page + 1)]\n",
    "\t"
   ]
  },
  {
   "cell_type": "code",
   "execution_count": null,
   "metadata": {
    "collapsed": true
   },
   "outputs": [],
   "source": []
  }
 ],
 "metadata": {
  "kernelspec": {
   "display_name": "Python 2",
   "language": "python",
   "name": "python2"
  },
  "language_info": {
   "codemirror_mode": {
    "name": "ipython",
    "version": 2
   },
   "file_extension": ".py",
   "mimetype": "text/x-python",
   "name": "python",
   "nbconvert_exporter": "python",
   "pygments_lexer": "ipython2",
   "version": "2.7.11"
  }
 },
 "nbformat": 4,
 "nbformat_minor": 2
}
