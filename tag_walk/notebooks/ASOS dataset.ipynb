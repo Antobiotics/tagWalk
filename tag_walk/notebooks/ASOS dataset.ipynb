{
 "cells": [
  {
   "cell_type": "code",
   "execution_count": 1,
   "metadata": {
    "ExecuteTime": {
     "end_time": "2017-09-17T20:14:02.794680Z",
     "start_time": "2017-09-17T20:14:02.216051Z"
    }
   },
   "outputs": [
    {
     "name": "stdout",
     "output_type": "stream",
     "text": [
      "Populating the interactive namespace from numpy and matplotlib\n"
     ]
    }
   ],
   "source": [
    "%load_ext autoreload\n",
    "%autoreload 2\n",
    "%pylab inline\n",
    "%matplotlib inline"
   ]
  },
  {
   "cell_type": "code",
   "execution_count": 77,
   "metadata": {
    "ExecuteTime": {
     "end_time": "2017-09-17T20:53:04.390706Z",
     "start_time": "2017-09-17T20:52:56.257624Z"
    }
   },
   "outputs": [
    {
     "name": "stderr",
     "output_type": "stream",
     "text": [
      "2017-09-17 21:52:56 gregoires-MacBook-Pro.local root[65809] ERROR FATAL:  database \"scrape\" does not exist\n",
      "\n"
     ]
    }
   ],
   "source": [
    "from fachung.preparation.asos import Asos\n",
    "df = Asos(build=False).read_asos_df()"
   ]
  },
  {
   "cell_type": "code",
   "execution_count": 78,
   "metadata": {
    "ExecuteTime": {
     "end_time": "2017-09-17T20:53:05.295542Z",
     "start_time": "2017-09-17T20:53:05.187696Z"
    }
   },
   "outputs": [
    {
     "data": {
      "text/html": [
       "<div>\n",
       "<style>\n",
       "    .dataframe thead tr:only-child th {\n",
       "        text-align: right;\n",
       "    }\n",
       "\n",
       "    .dataframe thead th {\n",
       "        text-align: left;\n",
       "    }\n",
       "\n",
       "    .dataframe tbody tr th {\n",
       "        vertical-align: top;\n",
       "    }\n",
       "</style>\n",
       "<table border=\"1\" class=\"dataframe\">\n",
       "  <thead>\n",
       "    <tr style=\"text-align: right;\">\n",
       "      <th></th>\n",
       "      <th>Unnamed: 0</th>\n",
       "      <th>iid</th>\n",
       "      <th>url_x</th>\n",
       "      <th>name</th>\n",
       "      <th>perm_name</th>\n",
       "      <th>cid</th>\n",
       "      <th>brand_id</th>\n",
       "      <th>color</th>\n",
       "      <th>price_orig</th>\n",
       "      <th>price_cur</th>\n",
       "      <th>...</th>\n",
       "      <th>sgid_x</th>\n",
       "      <th>url_y</th>\n",
       "      <th>images</th>\n",
       "      <th>cat1</th>\n",
       "      <th>cat2</th>\n",
       "      <th>tags</th>\n",
       "      <th>sgid_y</th>\n",
       "      <th>brand_name</th>\n",
       "      <th>brand_url</th>\n",
       "      <th>attributes</th>\n",
       "    </tr>\n",
       "  </thead>\n",
       "  <tbody>\n",
       "    <tr>\n",
       "      <th>0</th>\n",
       "      <td>0</td>\n",
       "      <td>8133695</td>\n",
       "      <td>http://www.asos.com/asos-white/asos-white-re-c...</td>\n",
       "      <td>ASOS WHITE Re-Constructed Stripe Shirt With Ro...</td>\n",
       "      <td>asos-white-re-constructed-stripe-shirt-with-ro...</td>\n",
       "      <td>11761</td>\n",
       "      <td>11761</td>\n",
       "      <td>Bluewhite</td>\n",
       "      <td>NaN</td>\n",
       "      <td>£55.00</td>\n",
       "      <td>...</td>\n",
       "      <td>NaN</td>\n",
       "      <td>http://www.asos.com/asos-white/asos-white-re-c...</td>\n",
       "      <td>[http://images.asos-media.com/products/asos-wh...</td>\n",
       "      <td>[tops, shirts-blouses]</td>\n",
       "      <td>cat</td>\n",
       "      <td>[Lightweightwovenfabric, Stripedesign, V-neck,...</td>\n",
       "      <td>NaN</td>\n",
       "      <td>asos-white</td>\n",
       "      <td>http://www.asos.com/women/a-to-z-of-brands/aso...</td>\n",
       "      <td>[ropefasteningtofront, stripedesign, ourmodelw...</td>\n",
       "    </tr>\n",
       "    <tr>\n",
       "      <th>1</th>\n",
       "      <td>1</td>\n",
       "      <td>8133695</td>\n",
       "      <td>http://www.asos.com/asos-white/asos-white-re-c...</td>\n",
       "      <td>ASOS WHITE Re-Constructed Stripe Shirt With Ro...</td>\n",
       "      <td>asos-white-re-constructed-stripe-shirt-with-ro...</td>\n",
       "      <td>11761</td>\n",
       "      <td>11761</td>\n",
       "      <td>Bluewhite</td>\n",
       "      <td>NaN</td>\n",
       "      <td>£55.00</td>\n",
       "      <td>...</td>\n",
       "      <td>NaN</td>\n",
       "      <td>http://www.asos.com/asos-white/asos-white-re-c...</td>\n",
       "      <td>[http://images.asos-media.com/products/asos-wh...</td>\n",
       "      <td>[tops, shirts-blouses]</td>\n",
       "      <td>cat</td>\n",
       "      <td>[Lightweightwovenfabric, Stripedesign, V-neck,...</td>\n",
       "      <td>NaN</td>\n",
       "      <td>asos-white</td>\n",
       "      <td>http://www.asos.com/women/a-to-z-of-brands/aso...</td>\n",
       "      <td>[ropefasteningtofront, stripedesign, ourmodelw...</td>\n",
       "    </tr>\n",
       "    <tr>\n",
       "      <th>2</th>\n",
       "      <td>2</td>\n",
       "      <td>8133695</td>\n",
       "      <td>http://www.asos.com/asos-white/asos-white-re-c...</td>\n",
       "      <td>ASOS WHITE Re-Constructed Stripe Shirt With Ro...</td>\n",
       "      <td>asos-white-re-constructed-stripe-shirt-with-ro...</td>\n",
       "      <td>11761</td>\n",
       "      <td>11761</td>\n",
       "      <td>Bluewhite</td>\n",
       "      <td>NaN</td>\n",
       "      <td>£55.00</td>\n",
       "      <td>...</td>\n",
       "      <td>NaN</td>\n",
       "      <td>http://www.asos.com/asos-white/asos-white-re-c...</td>\n",
       "      <td>[http://images.asos-media.com/products/asos-wh...</td>\n",
       "      <td>[tops, shirts-blouses]</td>\n",
       "      <td>cat</td>\n",
       "      <td>[Lightweightwovenfabric, Stripedesign, V-neck,...</td>\n",
       "      <td>NaN</td>\n",
       "      <td>asos-white</td>\n",
       "      <td>http://www.asos.com/women/a-to-z-of-brands/aso...</td>\n",
       "      <td>[ropefasteningtofront, stripedesign, ourmodelw...</td>\n",
       "    </tr>\n",
       "    <tr>\n",
       "      <th>3</th>\n",
       "      <td>3</td>\n",
       "      <td>8133695</td>\n",
       "      <td>http://www.asos.com/asos-white/asos-white-re-c...</td>\n",
       "      <td>ASOS WHITE Re-Constructed Stripe Shirt With Ro...</td>\n",
       "      <td>asos-white-re-constructed-stripe-shirt-with-ro...</td>\n",
       "      <td>11761</td>\n",
       "      <td>11761</td>\n",
       "      <td>Bluewhite</td>\n",
       "      <td>NaN</td>\n",
       "      <td>£55.00</td>\n",
       "      <td>...</td>\n",
       "      <td>NaN</td>\n",
       "      <td>http://www.asos.com/asos-white/asos-white-re-c...</td>\n",
       "      <td>[http://images.asos-media.com/products/asos-wh...</td>\n",
       "      <td>[tops, shirts-blouses]</td>\n",
       "      <td>cat</td>\n",
       "      <td>[Lightweightwovenfabric, Stripedesign, V-neck,...</td>\n",
       "      <td>NaN</td>\n",
       "      <td>asos-white</td>\n",
       "      <td>http://www.asos.com/women/a-to-z-of-brands/aso...</td>\n",
       "      <td>[ropefasteningtofront, stripedesign, ourmodelw...</td>\n",
       "    </tr>\n",
       "  </tbody>\n",
       "</table>\n",
       "<p>4 rows × 22 columns</p>\n",
       "</div>"
      ],
      "text/plain": [
       "   Unnamed: 0      iid                                              url_x  \\\n",
       "0           0  8133695  http://www.asos.com/asos-white/asos-white-re-c...   \n",
       "1           1  8133695  http://www.asos.com/asos-white/asos-white-re-c...   \n",
       "2           2  8133695  http://www.asos.com/asos-white/asos-white-re-c...   \n",
       "3           3  8133695  http://www.asos.com/asos-white/asos-white-re-c...   \n",
       "\n",
       "                                                name  \\\n",
       "0  ASOS WHITE Re-Constructed Stripe Shirt With Ro...   \n",
       "1  ASOS WHITE Re-Constructed Stripe Shirt With Ro...   \n",
       "2  ASOS WHITE Re-Constructed Stripe Shirt With Ro...   \n",
       "3  ASOS WHITE Re-Constructed Stripe Shirt With Ro...   \n",
       "\n",
       "                                           perm_name    cid  brand_id  \\\n",
       "0  asos-white-re-constructed-stripe-shirt-with-ro...  11761     11761   \n",
       "1  asos-white-re-constructed-stripe-shirt-with-ro...  11761     11761   \n",
       "2  asos-white-re-constructed-stripe-shirt-with-ro...  11761     11761   \n",
       "3  asos-white-re-constructed-stripe-shirt-with-ro...  11761     11761   \n",
       "\n",
       "       color price_orig price_cur  \\\n",
       "0  Bluewhite        NaN    £55.00   \n",
       "1  Bluewhite        NaN    £55.00   \n",
       "2  Bluewhite        NaN    £55.00   \n",
       "3  Bluewhite        NaN    £55.00   \n",
       "\n",
       "                         ...                         sgid_x  \\\n",
       "0                        ...                            NaN   \n",
       "1                        ...                            NaN   \n",
       "2                        ...                            NaN   \n",
       "3                        ...                            NaN   \n",
       "\n",
       "                                               url_y  \\\n",
       "0  http://www.asos.com/asos-white/asos-white-re-c...   \n",
       "1  http://www.asos.com/asos-white/asos-white-re-c...   \n",
       "2  http://www.asos.com/asos-white/asos-white-re-c...   \n",
       "3  http://www.asos.com/asos-white/asos-white-re-c...   \n",
       "\n",
       "                                              images                    cat1  \\\n",
       "0  [http://images.asos-media.com/products/asos-wh...  [tops, shirts-blouses]   \n",
       "1  [http://images.asos-media.com/products/asos-wh...  [tops, shirts-blouses]   \n",
       "2  [http://images.asos-media.com/products/asos-wh...  [tops, shirts-blouses]   \n",
       "3  [http://images.asos-media.com/products/asos-wh...  [tops, shirts-blouses]   \n",
       "\n",
       "  cat2                                               tags sgid_y  brand_name  \\\n",
       "0  cat  [Lightweightwovenfabric, Stripedesign, V-neck,...    NaN  asos-white   \n",
       "1  cat  [Lightweightwovenfabric, Stripedesign, V-neck,...    NaN  asos-white   \n",
       "2  cat  [Lightweightwovenfabric, Stripedesign, V-neck,...    NaN  asos-white   \n",
       "3  cat  [Lightweightwovenfabric, Stripedesign, V-neck,...    NaN  asos-white   \n",
       "\n",
       "                                           brand_url  \\\n",
       "0  http://www.asos.com/women/a-to-z-of-brands/aso...   \n",
       "1  http://www.asos.com/women/a-to-z-of-brands/aso...   \n",
       "2  http://www.asos.com/women/a-to-z-of-brands/aso...   \n",
       "3  http://www.asos.com/women/a-to-z-of-brands/aso...   \n",
       "\n",
       "                                          attributes  \n",
       "0  [ropefasteningtofront, stripedesign, ourmodelw...  \n",
       "1  [ropefasteningtofront, stripedesign, ourmodelw...  \n",
       "2  [ropefasteningtofront, stripedesign, ourmodelw...  \n",
       "3  [ropefasteningtofront, stripedesign, ourmodelw...  \n",
       "\n",
       "[4 rows x 22 columns]"
      ]
     },
     "execution_count": 78,
     "metadata": {},
     "output_type": "execute_result"
    }
   ],
   "source": [
    "df[df['iid'] == 8133695].head()"
   ]
  },
  {
   "cell_type": "code",
   "execution_count": 79,
   "metadata": {
    "ExecuteTime": {
     "end_time": "2017-09-17T20:53:13.639978Z",
     "start_time": "2017-09-17T20:53:13.622456Z"
    }
   },
   "outputs": [
    {
     "data": {
      "text/plain": [
       "[['ropefasteningtofront',\n",
       "  'stripedesign',\n",
       "  'ourmodelwearsauk8/eu36/us4andis173cm/5\\\\8tall',\n",
       "  'v-neck',\n",
       "  'lightweightwovenfabric',\n",
       "  'machinewash',\n",
       "  '100%polyester',\n",
       "  'cropcut',\n",
       "  'shirts-blouses',\n",
       "  'regularfit-truetosize',\n",
       "  'overlaydetail',\n",
       "  'tops'],\n",
       " ['ropefasteningtofront',\n",
       "  'stripedesign',\n",
       "  'ourmodelwearsauk8/eu36/us4andis173cm/5\\\\8tall',\n",
       "  'v-neck',\n",
       "  'lightweightwovenfabric',\n",
       "  'machinewash',\n",
       "  '100%polyester',\n",
       "  'cropcut',\n",
       "  'shirts-blouses',\n",
       "  'regularfit-truetosize',\n",
       "  'overlaydetail',\n",
       "  'tops'],\n",
       " ['ropefasteningtofront',\n",
       "  'stripedesign',\n",
       "  'ourmodelwearsauk8/eu36/us4andis173cm/5\\\\8tall',\n",
       "  'v-neck',\n",
       "  'lightweightwovenfabric',\n",
       "  'machinewash',\n",
       "  '100%polyester',\n",
       "  'cropcut',\n",
       "  'shirts-blouses',\n",
       "  'regularfit-truetosize',\n",
       "  'overlaydetail',\n",
       "  'tops'],\n",
       " ['ropefasteningtofront',\n",
       "  'stripedesign',\n",
       "  'ourmodelwearsauk8/eu36/us4andis173cm/5\\\\8tall',\n",
       "  'v-neck',\n",
       "  'lightweightwovenfabric',\n",
       "  'machinewash',\n",
       "  '100%polyester',\n",
       "  'cropcut',\n",
       "  'shirts-blouses',\n",
       "  'regularfit-truetosize',\n",
       "  'overlaydetail',\n",
       "  'tops']]"
      ]
     },
     "execution_count": 79,
     "metadata": {},
     "output_type": "execute_result"
    }
   ],
   "source": [
    "df[df['iid'] == 8133695]['attributes'].tolist()"
   ]
  },
  {
   "cell_type": "code",
   "execution_count": 74,
   "metadata": {
    "ExecuteTime": {
     "end_time": "2017-09-17T20:48:40.741693Z",
     "start_time": "2017-09-17T20:48:40.694900Z"
    }
   },
   "outputs": [
    {
     "ename": "KeyError",
     "evalue": "0",
     "output_type": "error",
     "traceback": [
      "\u001b[0;31m---------------------------------------------------------------------------\u001b[0m",
      "\u001b[0;31mKeyError\u001b[0m                                  Traceback (most recent call last)",
      "\u001b[0;32m/usr/local/lib/python3.6/site-packages/pandas-0.20.3-py3.6-macosx-10.12-x86_64.egg/pandas/core/indexes/base.py\u001b[0m in \u001b[0;36mget_loc\u001b[0;34m(self, key, method, tolerance)\u001b[0m\n\u001b[1;32m   2441\u001b[0m             \u001b[0;32mtry\u001b[0m\u001b[0;34m:\u001b[0m\u001b[0;34m\u001b[0m\u001b[0m\n\u001b[0;32m-> 2442\u001b[0;31m                 \u001b[0;32mreturn\u001b[0m \u001b[0mself\u001b[0m\u001b[0;34m.\u001b[0m\u001b[0m_engine\u001b[0m\u001b[0;34m.\u001b[0m\u001b[0mget_loc\u001b[0m\u001b[0;34m(\u001b[0m\u001b[0mkey\u001b[0m\u001b[0;34m)\u001b[0m\u001b[0;34m\u001b[0m\u001b[0m\n\u001b[0m\u001b[1;32m   2443\u001b[0m             \u001b[0;32mexcept\u001b[0m \u001b[0mKeyError\u001b[0m\u001b[0;34m:\u001b[0m\u001b[0;34m\u001b[0m\u001b[0m\n",
      "\u001b[0;32mpandas/_libs/index.pyx\u001b[0m in \u001b[0;36mpandas._libs.index.IndexEngine.get_loc (pandas/_libs/index.c:5280)\u001b[0;34m()\u001b[0m\n",
      "\u001b[0;32mpandas/_libs/index.pyx\u001b[0m in \u001b[0;36mpandas._libs.index.IndexEngine.get_loc (pandas/_libs/index.c:5126)\u001b[0;34m()\u001b[0m\n",
      "\u001b[0;32mpandas/_libs/hashtable_class_helper.pxi\u001b[0m in \u001b[0;36mpandas._libs.hashtable.PyObjectHashTable.get_item (pandas/_libs/hashtable.c:20523)\u001b[0;34m()\u001b[0m\n",
      "\u001b[0;32mpandas/_libs/hashtable_class_helper.pxi\u001b[0m in \u001b[0;36mpandas._libs.hashtable.PyObjectHashTable.get_item (pandas/_libs/hashtable.c:20477)\u001b[0;34m()\u001b[0m\n",
      "\u001b[0;31mKeyError\u001b[0m: 0",
      "\nDuring handling of the above exception, another exception occurred:\n",
      "\u001b[0;31mKeyError\u001b[0m                                  Traceback (most recent call last)",
      "\u001b[0;32m<ipython-input-74-9ae93f22b889>\u001b[0m in \u001b[0;36m<module>\u001b[0;34m()\u001b[0m\n\u001b[0;32m----> 1\u001b[0;31m \u001b[0mdf\u001b[0m\u001b[0;34m[\u001b[0m\u001b[0;36m0\u001b[0m\u001b[0;34m]\u001b[0m\u001b[0;34m\u001b[0m\u001b[0m\n\u001b[0m",
      "\u001b[0;32m/usr/local/lib/python3.6/site-packages/pandas-0.20.3-py3.6-macosx-10.12-x86_64.egg/pandas/core/frame.py\u001b[0m in \u001b[0;36m__getitem__\u001b[0;34m(self, key)\u001b[0m\n\u001b[1;32m   1962\u001b[0m             \u001b[0;32mreturn\u001b[0m \u001b[0mself\u001b[0m\u001b[0;34m.\u001b[0m\u001b[0m_getitem_multilevel\u001b[0m\u001b[0;34m(\u001b[0m\u001b[0mkey\u001b[0m\u001b[0;34m)\u001b[0m\u001b[0;34m\u001b[0m\u001b[0m\n\u001b[1;32m   1963\u001b[0m         \u001b[0;32melse\u001b[0m\u001b[0;34m:\u001b[0m\u001b[0;34m\u001b[0m\u001b[0m\n\u001b[0;32m-> 1964\u001b[0;31m             \u001b[0;32mreturn\u001b[0m \u001b[0mself\u001b[0m\u001b[0;34m.\u001b[0m\u001b[0m_getitem_column\u001b[0m\u001b[0;34m(\u001b[0m\u001b[0mkey\u001b[0m\u001b[0;34m)\u001b[0m\u001b[0;34m\u001b[0m\u001b[0m\n\u001b[0m\u001b[1;32m   1965\u001b[0m \u001b[0;34m\u001b[0m\u001b[0m\n\u001b[1;32m   1966\u001b[0m     \u001b[0;32mdef\u001b[0m \u001b[0m_getitem_column\u001b[0m\u001b[0;34m(\u001b[0m\u001b[0mself\u001b[0m\u001b[0;34m,\u001b[0m \u001b[0mkey\u001b[0m\u001b[0;34m)\u001b[0m\u001b[0;34m:\u001b[0m\u001b[0;34m\u001b[0m\u001b[0m\n",
      "\u001b[0;32m/usr/local/lib/python3.6/site-packages/pandas-0.20.3-py3.6-macosx-10.12-x86_64.egg/pandas/core/frame.py\u001b[0m in \u001b[0;36m_getitem_column\u001b[0;34m(self, key)\u001b[0m\n\u001b[1;32m   1969\u001b[0m         \u001b[0;31m# get column\u001b[0m\u001b[0;34m\u001b[0m\u001b[0;34m\u001b[0m\u001b[0m\n\u001b[1;32m   1970\u001b[0m         \u001b[0;32mif\u001b[0m \u001b[0mself\u001b[0m\u001b[0;34m.\u001b[0m\u001b[0mcolumns\u001b[0m\u001b[0;34m.\u001b[0m\u001b[0mis_unique\u001b[0m\u001b[0;34m:\u001b[0m\u001b[0;34m\u001b[0m\u001b[0m\n\u001b[0;32m-> 1971\u001b[0;31m             \u001b[0;32mreturn\u001b[0m \u001b[0mself\u001b[0m\u001b[0;34m.\u001b[0m\u001b[0m_get_item_cache\u001b[0m\u001b[0;34m(\u001b[0m\u001b[0mkey\u001b[0m\u001b[0;34m)\u001b[0m\u001b[0;34m\u001b[0m\u001b[0m\n\u001b[0m\u001b[1;32m   1972\u001b[0m \u001b[0;34m\u001b[0m\u001b[0m\n\u001b[1;32m   1973\u001b[0m         \u001b[0;31m# duplicate columns & possible reduce dimensionality\u001b[0m\u001b[0;34m\u001b[0m\u001b[0;34m\u001b[0m\u001b[0m\n",
      "\u001b[0;32m/usr/local/lib/python3.6/site-packages/pandas-0.20.3-py3.6-macosx-10.12-x86_64.egg/pandas/core/generic.py\u001b[0m in \u001b[0;36m_get_item_cache\u001b[0;34m(self, item)\u001b[0m\n\u001b[1;32m   1643\u001b[0m         \u001b[0mres\u001b[0m \u001b[0;34m=\u001b[0m \u001b[0mcache\u001b[0m\u001b[0;34m.\u001b[0m\u001b[0mget\u001b[0m\u001b[0;34m(\u001b[0m\u001b[0mitem\u001b[0m\u001b[0;34m)\u001b[0m\u001b[0;34m\u001b[0m\u001b[0m\n\u001b[1;32m   1644\u001b[0m         \u001b[0;32mif\u001b[0m \u001b[0mres\u001b[0m \u001b[0;32mis\u001b[0m \u001b[0;32mNone\u001b[0m\u001b[0;34m:\u001b[0m\u001b[0;34m\u001b[0m\u001b[0m\n\u001b[0;32m-> 1645\u001b[0;31m             \u001b[0mvalues\u001b[0m \u001b[0;34m=\u001b[0m \u001b[0mself\u001b[0m\u001b[0;34m.\u001b[0m\u001b[0m_data\u001b[0m\u001b[0;34m.\u001b[0m\u001b[0mget\u001b[0m\u001b[0;34m(\u001b[0m\u001b[0mitem\u001b[0m\u001b[0;34m)\u001b[0m\u001b[0;34m\u001b[0m\u001b[0m\n\u001b[0m\u001b[1;32m   1646\u001b[0m             \u001b[0mres\u001b[0m \u001b[0;34m=\u001b[0m \u001b[0mself\u001b[0m\u001b[0;34m.\u001b[0m\u001b[0m_box_item_values\u001b[0m\u001b[0;34m(\u001b[0m\u001b[0mitem\u001b[0m\u001b[0;34m,\u001b[0m \u001b[0mvalues\u001b[0m\u001b[0;34m)\u001b[0m\u001b[0;34m\u001b[0m\u001b[0m\n\u001b[1;32m   1647\u001b[0m             \u001b[0mcache\u001b[0m\u001b[0;34m[\u001b[0m\u001b[0mitem\u001b[0m\u001b[0;34m]\u001b[0m \u001b[0;34m=\u001b[0m \u001b[0mres\u001b[0m\u001b[0;34m\u001b[0m\u001b[0m\n",
      "\u001b[0;32m/usr/local/lib/python3.6/site-packages/pandas-0.20.3-py3.6-macosx-10.12-x86_64.egg/pandas/core/internals.py\u001b[0m in \u001b[0;36mget\u001b[0;34m(self, item, fastpath)\u001b[0m\n\u001b[1;32m   3588\u001b[0m \u001b[0;34m\u001b[0m\u001b[0m\n\u001b[1;32m   3589\u001b[0m             \u001b[0;32mif\u001b[0m \u001b[0;32mnot\u001b[0m \u001b[0misnull\u001b[0m\u001b[0;34m(\u001b[0m\u001b[0mitem\u001b[0m\u001b[0;34m)\u001b[0m\u001b[0;34m:\u001b[0m\u001b[0;34m\u001b[0m\u001b[0m\n\u001b[0;32m-> 3590\u001b[0;31m                 \u001b[0mloc\u001b[0m \u001b[0;34m=\u001b[0m \u001b[0mself\u001b[0m\u001b[0;34m.\u001b[0m\u001b[0mitems\u001b[0m\u001b[0;34m.\u001b[0m\u001b[0mget_loc\u001b[0m\u001b[0;34m(\u001b[0m\u001b[0mitem\u001b[0m\u001b[0;34m)\u001b[0m\u001b[0;34m\u001b[0m\u001b[0m\n\u001b[0m\u001b[1;32m   3591\u001b[0m             \u001b[0;32melse\u001b[0m\u001b[0;34m:\u001b[0m\u001b[0;34m\u001b[0m\u001b[0m\n\u001b[1;32m   3592\u001b[0m                 \u001b[0mindexer\u001b[0m \u001b[0;34m=\u001b[0m \u001b[0mnp\u001b[0m\u001b[0;34m.\u001b[0m\u001b[0marange\u001b[0m\u001b[0;34m(\u001b[0m\u001b[0mlen\u001b[0m\u001b[0;34m(\u001b[0m\u001b[0mself\u001b[0m\u001b[0;34m.\u001b[0m\u001b[0mitems\u001b[0m\u001b[0;34m)\u001b[0m\u001b[0;34m)\u001b[0m\u001b[0;34m[\u001b[0m\u001b[0misnull\u001b[0m\u001b[0;34m(\u001b[0m\u001b[0mself\u001b[0m\u001b[0;34m.\u001b[0m\u001b[0mitems\u001b[0m\u001b[0;34m)\u001b[0m\u001b[0;34m]\u001b[0m\u001b[0;34m\u001b[0m\u001b[0m\n",
      "\u001b[0;32m/usr/local/lib/python3.6/site-packages/pandas-0.20.3-py3.6-macosx-10.12-x86_64.egg/pandas/core/indexes/base.py\u001b[0m in \u001b[0;36mget_loc\u001b[0;34m(self, key, method, tolerance)\u001b[0m\n\u001b[1;32m   2442\u001b[0m                 \u001b[0;32mreturn\u001b[0m \u001b[0mself\u001b[0m\u001b[0;34m.\u001b[0m\u001b[0m_engine\u001b[0m\u001b[0;34m.\u001b[0m\u001b[0mget_loc\u001b[0m\u001b[0;34m(\u001b[0m\u001b[0mkey\u001b[0m\u001b[0;34m)\u001b[0m\u001b[0;34m\u001b[0m\u001b[0m\n\u001b[1;32m   2443\u001b[0m             \u001b[0;32mexcept\u001b[0m \u001b[0mKeyError\u001b[0m\u001b[0;34m:\u001b[0m\u001b[0;34m\u001b[0m\u001b[0m\n\u001b[0;32m-> 2444\u001b[0;31m                 \u001b[0;32mreturn\u001b[0m \u001b[0mself\u001b[0m\u001b[0;34m.\u001b[0m\u001b[0m_engine\u001b[0m\u001b[0;34m.\u001b[0m\u001b[0mget_loc\u001b[0m\u001b[0;34m(\u001b[0m\u001b[0mself\u001b[0m\u001b[0;34m.\u001b[0m\u001b[0m_maybe_cast_indexer\u001b[0m\u001b[0;34m(\u001b[0m\u001b[0mkey\u001b[0m\u001b[0;34m)\u001b[0m\u001b[0;34m)\u001b[0m\u001b[0;34m\u001b[0m\u001b[0m\n\u001b[0m\u001b[1;32m   2445\u001b[0m \u001b[0;34m\u001b[0m\u001b[0m\n\u001b[1;32m   2446\u001b[0m         \u001b[0mindexer\u001b[0m \u001b[0;34m=\u001b[0m \u001b[0mself\u001b[0m\u001b[0;34m.\u001b[0m\u001b[0mget_indexer\u001b[0m\u001b[0;34m(\u001b[0m\u001b[0;34m[\u001b[0m\u001b[0mkey\u001b[0m\u001b[0;34m]\u001b[0m\u001b[0;34m,\u001b[0m \u001b[0mmethod\u001b[0m\u001b[0;34m=\u001b[0m\u001b[0mmethod\u001b[0m\u001b[0;34m,\u001b[0m \u001b[0mtolerance\u001b[0m\u001b[0;34m=\u001b[0m\u001b[0mtolerance\u001b[0m\u001b[0;34m)\u001b[0m\u001b[0;34m\u001b[0m\u001b[0m\n",
      "\u001b[0;32mpandas/_libs/index.pyx\u001b[0m in \u001b[0;36mpandas._libs.index.IndexEngine.get_loc (pandas/_libs/index.c:5280)\u001b[0;34m()\u001b[0m\n",
      "\u001b[0;32mpandas/_libs/index.pyx\u001b[0m in \u001b[0;36mpandas._libs.index.IndexEngine.get_loc (pandas/_libs/index.c:5126)\u001b[0;34m()\u001b[0m\n",
      "\u001b[0;32mpandas/_libs/hashtable_class_helper.pxi\u001b[0m in \u001b[0;36mpandas._libs.hashtable.PyObjectHashTable.get_item (pandas/_libs/hashtable.c:20523)\u001b[0;34m()\u001b[0m\n",
      "\u001b[0;32mpandas/_libs/hashtable_class_helper.pxi\u001b[0m in \u001b[0;36mpandas._libs.hashtable.PyObjectHashTable.get_item (pandas/_libs/hashtable.c:20477)\u001b[0;34m()\u001b[0m\n",
      "\u001b[0;31mKeyError\u001b[0m: 0"
     ]
    }
   ],
   "source": [
    "df[0]"
   ]
  },
  {
   "cell_type": "code",
   "execution_count": null,
   "metadata": {
    "collapsed": true
   },
   "outputs": [],
   "source": []
  }
 ],
 "metadata": {
  "kernelspec": {
   "display_name": "Python 3",
   "language": "python",
   "name": "python3"
  },
  "language_info": {
   "codemirror_mode": {
    "name": "ipython",
    "version": 3
   },
   "file_extension": ".py",
   "mimetype": "text/x-python",
   "name": "python",
   "nbconvert_exporter": "python",
   "pygments_lexer": "ipython3",
   "version": "3.6.2"
  },
  "toc": {
   "colors": {
    "hover_highlight": "#DAA520",
    "navigate_num": "#000000",
    "navigate_text": "#333333",
    "running_highlight": "#FF0000",
    "selected_highlight": "#FFD700",
    "sidebar_border": "#EEEEEE",
    "wrapper_background": "#FFFFFF"
   },
   "moveMenuLeft": true,
   "nav_menu": {
    "height": "4px",
    "width": "254px"
   },
   "navigate_menu": true,
   "number_sections": true,
   "sideBar": true,
   "threshold": 4,
   "toc_cell": false,
   "toc_section_display": "block",
   "toc_window_display": false,
   "widenNotebook": false
  }
 },
 "nbformat": 4,
 "nbformat_minor": 2
}
