{
 "cells": [
  {
   "cell_type": "code",
   "execution_count": 32,
   "metadata": {
    "ExecuteTime": {
     "end_time": "2017-09-06T14:15:40.510130Z",
     "start_time": "2017-09-06T14:15:40.334366Z"
    }
   },
   "outputs": [
    {
     "name": "stdout",
     "output_type": "stream",
     "text": [
      "The autoreload extension is already loaded. To reload it, use:\n",
      "  %reload_ext autoreload\n",
      "Populating the interactive namespace from numpy and matplotlib\n"
     ]
    }
   ],
   "source": [
    "%load_ext autoreload\n",
    "%autoreload 2\n",
    "%pylab inline\n",
    "%matplotlib inline"
   ]
  },
  {
   "cell_type": "code",
   "execution_count": 33,
   "metadata": {
    "ExecuteTime": {
     "end_time": "2017-09-06T14:15:41.106908Z",
     "start_time": "2017-09-06T14:15:41.079076Z"
    }
   },
   "outputs": [],
   "source": [
    "import sys\n",
    "\n",
    "import torch\n",
    "import torch.nn as nn\n",
    "import torch.optim as optim\n",
    "from torch.autograd import Variable\n",
    "\n",
    "import torchvision\n",
    "import torchvision.transforms as transforms\n",
    "sys.path.append(\"/Users/gregoirelejay/dev/personal/tag_walk/tag_walk\") "
   ]
  },
  {
   "cell_type": "code",
   "execution_count": 34,
   "metadata": {
    "ExecuteTime": {
     "end_time": "2017-09-06T14:15:41.978550Z",
     "start_time": "2017-09-06T14:15:41.953042Z"
    }
   },
   "outputs": [],
   "source": [
    "# import torchvision\n",
    "# import matplotlib.pyplot as plt\n",
    "# import numpy as np\n",
    "\n",
    "# to_pl = transforms.ToPILImage()\n",
    "# plt.imshow(to_pl(tw_dataset[0][0]))"
   ]
  },
  {
   "cell_type": "markdown",
   "metadata": {},
   "source": [
    "# Inspecting the model"
   ]
  },
  {
   "cell_type": "code",
   "execution_count": 35,
   "metadata": {
    "ExecuteTime": {
     "end_time": "2017-09-06T14:15:47.317860Z",
     "start_time": "2017-09-06T14:15:43.531075Z"
    }
   },
   "outputs": [
    {
     "name": "stdout",
     "output_type": "stream",
     "text": [
      "Dataset sizes:\n",
      "    Train:      (19516,)\n",
      "    Validation: (4879,)\n",
      "    Test:       (4879,)\n"
     ]
    },
    {
     "name": "stderr",
     "output_type": "stream",
     "text": [
      "2017-09-06 15:15:47 Chromecast.home root[71085] INFO Trying to load ../data/training_logs//TagWalkClassifier.pkl\n"
     ]
    },
    {
     "name": "stdout",
     "output_type": "stream",
     "text": [
      "dict_keys(['current_epoch', 'batch_size', 'num_epoch', 'loss', 'val_loss', 'loss_epoch', 'val_loss_epoch'])\n"
     ]
    }
   ],
   "source": [
    "from fachung.models.tagwalk_classifier import TagWalkClassifier\n",
    "\n",
    "tw_class = TagWalkClassifier('../data/tag_walk/',\n",
    "                              batch_size=4, num_epochs=3,\n",
    "                              debug=False, reset=False, output_dir='../data/training_logs/')\n",
    "tw_class.read_model()\n",
    "\n",
    "print(tw_class.history.keys())"
   ]
  },
  {
   "cell_type": "code",
   "execution_count": 43,
   "metadata": {
    "ExecuteTime": {
     "end_time": "2017-09-06T14:17:57.461243Z",
     "start_time": "2017-09-06T14:17:56.786484Z"
    }
   },
   "outputs": [
    {
     "data": {
      "image/png": "[encoded data removed]",
      "text/plain": [
       "<matplotlib.figure.Figure at 0x10819d550>"
      ]
     },
     "metadata": {},
     "output_type": "display_data"
    },
    {
     "data": {
      "text/plain": [
       "<ggplot: (277824313)>"
      ]
     },
     "execution_count": 43,
     "metadata": {},
     "output_type": "execute_result"
    }
   ],
   "source": [
    "import plotnine as gg\n",
    "import pandas as pd\n",
    "\n",
    "\n",
    "df = pd.DataFrame({'loss':tw_class.history['loss']})\n",
    "df['index'] = df.index\n",
    "gg.ggplot(df) + gg.geom_line(gg.aes(x='index', y='loss')) + gg.theme_538()"
   ]
  },
  {
   "cell_type": "code",
   "execution_count": 48,
   "metadata": {
    "ExecuteTime": {
     "end_time": "2017-09-06T14:41:58.439048Z",
     "start_time": "2017-09-06T14:41:58.382648Z"
    }
   },
   "outputs": [],
   "source": [
    "test_loader = tw_class.testing_loader\n",
    "model = tw_class.model\n",
    "classes = tw_class.classes\n",
    "\n",
    "to_pl = transforms.ToPILImage()\n",
    "\n",
    "import torch.nn.functional as F\n",
    "\n",
    "model.eval()\n",
    "\n",
    "def visualize_model(model, num_images=6):\n",
    "    images_so_far = 0\n",
    "    fig = plt.figure()\n",
    "\n",
    "    for i, data in enumerate(test_loader):\n",
    "        inputs, labels, img_path = data\n",
    "        inputs, labels = Variable(inputs), Variable(labels)\n",
    "\n",
    "        outputs = model(inputs)\n",
    "        print(outputs)\n",
    "        print(F.sigmoid(outputs))\n",
    "        _, preds = torch.max(outputs.data, 1)\n",
    "        \n",
    "        output_mat = outputs.data.cpu().numpy()\n",
    "        target_mat = labels.data.cpu().numpy()\n",
    "        for batch_id in range(output_mat.shape[0]):\n",
    "            print(\"-------\")\n",
    "            max_idx = np.argpartition(output_mat[batch_id], 10)[:10]\n",
    "            print(max_idx)\n",
    "            print(\"IMG: %s \\n Predicted: %s \\n Truth: %s\" % (\n",
    "                img_path[batch_id],\n",
    "                classes[max_idx],\n",
    "                classes[\n",
    "                    np.where(target_mat[batch_id] == 1)\n",
    "                ]))\n",
    "            print(\"ALT:\")\n",
    "            max_idx = np.where(output_mat[batch_id] > 0.5)\n",
    "            print(max_idx)\n",
    "            print(\"IMG: %s \\n Predicted: %s \\n Truth: %s\" % (\n",
    "                img_path[batch_id],\n",
    "                classes[max_idx],\n",
    "                classes[\n",
    "                    np.where(target_mat[batch_id] == 1)\n",
    "                ]))\n",
    "        break\n",
    "\n",
    "#         for j in range(inputs.size()[0]):\n",
    "#             images_so_far += 1\n",
    "#             ax = plt.subplot(num_images//2, 2, images_so_far)\n",
    "# #             plt.figure(figsize=(10, 10))\n",
    "#             ax.axis('off')\n",
    "#             ax.set_title('predicted: {}'.format(classes[preds[j]]))\n",
    "#             imshow(to_pl(inputs.cpu().data[j]))\n",
    "\n",
    "#             if images_so_far == num_images:\n",
    "#                 return"
   ]
  },
  {
   "cell_type": "code",
   "execution_count": 49,
   "metadata": {
    "ExecuteTime": {
     "end_time": "2017-09-06T14:42:02.280492Z",
     "start_time": "2017-09-06T14:42:01.571567Z"
    }
   },
   "outputs": [
    {
     "name": "stdout",
     "output_type": "stream",
     "text": [
      "Variable containing:\n",
      "-1.9656 -1.9794 -2.7605  ...  -1.7194 -1.6196 -1.8814\n",
      "-2.0861 -2.1809 -2.1977  ...  -1.6484 -1.6982 -1.6613\n",
      "-1.5692 -2.3015 -1.7731  ...  -1.7442 -1.8741 -1.5653\n",
      "-2.7505 -3.3268 -1.8322  ...  -1.7159 -1.9082 -1.7397\n",
      "[torch.FloatTensor of size 4x655]\n",
      "\n",
      "Variable containing:\n",
      " 0.1229  0.1214  0.0595  ...   0.1519  0.1653  0.1322\n",
      " 0.1105  0.1015  0.1000  ...   0.1613  0.1547  0.1596\n",
      " 0.1723  0.0910  0.1452  ...   0.1488  0.1331  0.1729\n",
      " 0.0601  0.0347  0.1380  ...   0.1524  0.1292  0.1494\n",
      "[torch.FloatTensor of size 4x655]\n",
      "\n",
      "-------\n",
      "[201 276 396  30 163 149  82 477 188 445]\n",
      "IMG: ../data/tag_walk/images/all/23_FENDI_DONNA_FW_16-17_.JPG \n",
      " Predicted: ['equestrian' 'gypsy' 'nun' 'ballerina' 'cross' 'corduroy' 'bohemian'\n",
      " 'pumps' 'drape' 'pink-jumper'] \n",
      " Truth: ['blue' 'blue-jacket' 'bomber' 'fur' 'midi' 'navy-blue' 'pleats' 'skirt'\n",
      " 'strict']\n",
      "ALT:\n",
      "(array([], dtype=int64),)\n",
      "IMG: ../data/tag_walk/images/all/23_FENDI_DONNA_FW_16-17_.JPG \n",
      " Predicted: [] \n",
      " Truth: ['blue' 'blue-jacket' 'bomber' 'fur' 'midi' 'navy-blue' 'pleats' 'skirt'\n",
      " 'strict']\n",
      "-------\n",
      "[270 599 461 383 551 355 220 391 139 645]\n",
      "IMG: ../data/tag_walk/images/all/Toga SS17 048.jpg \n",
      " Predicted: ['grey-skirt' 'tribal' 'polo' 'mountain' 'slippers' 'long-skirt' 'fleece'\n",
      " 'navy-blue-dress' 'clueless' 'yellow-coat'] \n",
      " Truth: ['applique' 'choker' 'crochet' 'dress' 'ivory' 'midi-dress' 'patch'\n",
      " 'pleats' 'silk' 'tank-top' 'top' 'v-neck']\n",
      "ALT:\n",
      "(array([], dtype=int64),)\n",
      "IMG: ../data/tag_walk/images/all/Toga SS17 048.jpg \n",
      " Predicted: [] \n",
      " Truth: ['applique' 'choker' 'crochet' 'dress' 'ivory' 'midi-dress' 'patch'\n",
      " 'pleats' 'silk' 'tank-top' 'top' 'v-neck']\n",
      "-------\n",
      "[295  47 267 128  71 446  49 386 243 192]\n",
      "IMG: ../data/tag_walk/images/all/Blugirl SS17 052.jpg \n",
      " Predicted: ['hot-pants' 'bell' 'grey-jacket' 'cashmere' 'blue-coat' 'pink-pants'\n",
      " 'belt' 'nature' 'gilet' 'dressing-gown'] \n",
      " Truth: ['balloon-sleeves' 'embroidery' 'floral' 'folk' 'folkloric' 'frill'\n",
      " 'gathers' 'lace' 'midi-skirt' 'print' 'sangallo' 'shirt' 'skirt'\n",
      " 'white-shirt']\n",
      "ALT:\n",
      "(array([], dtype=int64),)\n",
      "IMG: ../data/tag_walk/images/all/Blugirl SS17 052.jpg \n",
      " Predicted: [] \n",
      " Truth: ['balloon-sleeves' 'embroidery' 'floral' 'folk' 'folkloric' 'frill'\n",
      " 'gathers' 'lace' 'midi-skirt' 'print' 'sangallo' 'shirt' 'skirt'\n",
      " 'white-shirt']\n",
      "-------\n",
      "[576   1 476 131 550 250 575  33 116 512]\n",
      "IMG: ../data/tag_walk/images/all/Christian Siriano SS17 0018.jpg \n",
      " Predicted: ['tailor' '1940' 'pullover' 'chambray' 'slipdress' 'gothic' 'taffetas'\n",
      " 'barbie' 'burgundy-jumper' 'ruffled-collar'] \n",
      " Truth: ['dress' 'guipur' 'lace' 'midi-dress' 'sangallo' 'sleeveless' 'white'\n",
      " 'white-dress']\n",
      "ALT:\n",
      "(array([], dtype=int64),)\n",
      "IMG: ../data/tag_walk/images/all/Christian Siriano SS17 0018.jpg \n",
      " Predicted: [] \n",
      " Truth: ['dress' 'guipur' 'lace' 'midi-dress' 'sangallo' 'sleeveless' 'white'\n",
      " 'white-dress']\n"
     ]
    },
    {
     "data": {
      "text/plain": [
       "<matplotlib.figure.Figure at 0x10f5c2b00>"
      ]
     },
     "metadata": {},
     "output_type": "display_data"
    }
   ],
   "source": [
    "visualize_model(model)"
   ]
  },
  {
   "cell_type": "code",
   "execution_count": 63,
   "metadata": {
    "ExecuteTime": {
     "end_time": "2017-09-06T15:23:59.650058Z",
     "start_time": "2017-09-06T15:23:59.578142Z"
    }
   },
   "outputs": [],
   "source": [
    "from graphviz import Digraph\n",
    "import re\n",
    "import torch\n",
    "import torch.nn.functional as F\n",
    "from torch.autograd import Variable\n",
    "import torchvision.models as models\n",
    "\n",
    "\n",
    "def make_dot(var, params):\n",
    "    param_map = {id(v): k for k, v in params.items()}\n",
    "    \n",
    "    node_attr = dict(style='filled',\n",
    "                     shape='box',\n",
    "                     align='left',\n",
    "                     fontsize='12',\n",
    "                     ranksep='0.1',\n",
    "                     height='0.2')\n",
    "    dot = Digraph(node_attr=node_attr, graph_attr=dict(size=\"12,12\"))\n",
    "    seen = set()\n",
    "    \n",
    "    def size_to_str(size):\n",
    "        return '('+(', ').join(['%d'% v for v in size])+')'\n",
    "\n",
    "    def add_nodes(var):\n",
    "        if var not in seen:\n",
    "            if torch.is_tensor(var):\n",
    "                dot.node(str(id(var)), size_to_str(var.size()), fillcolor='orange')\n",
    "            elif hasattr(var, 'variable'):\n",
    "                u = var.variable\n",
    "                node_name = '%s\\n %s' % (param_map.get(id(u)), size_to_str(u.size()))\n",
    "                dot.node(str(id(var)), node_name, fillcolor='lightblue')\n",
    "            else:\n",
    "                dot.node(str(id(var)), str(type(var).__name__))\n",
    "            seen.add(var)\n",
    "            if hasattr(var, 'next_functions'):\n",
    "                for u in var.next_functions:\n",
    "                    if u[0] is not None:\n",
    "                        dot.edge(str(id(u[0])), str(id(var)))\n",
    "                        add_nodes(u[0])\n",
    "            if hasattr(var, 'saved_tensors'):\n",
    "                for t in var.saved_tensors:\n",
    "                    dot.edge(str(id(t)), str(id(var)))\n",
    "                    add_nodes(t)\n",
    "    add_nodes(var.grad_fn)\n",
    "    return dot"
   ]
  },
  {
   "cell_type": "code",
   "execution_count": 75,
   "metadata": {
    "ExecuteTime": {
     "end_time": "2017-09-06T15:49:43.279775Z",
     "start_time": "2017-09-06T15:49:43.242973Z"
    }
   },
   "outputs": [
    {
     "name": "stdout",
     "output_type": "stream",
     "text": [
      "ResNet (\n",
      "  (conv1): Conv2d(3, 64, kernel_size=(7, 7), stride=(2, 2), padding=(3, 3), bias=False)\n",
      "  (bn1): BatchNorm2d(64, eps=1e-05, momentum=0.1, affine=True)\n",
      "  (relu): ReLU (inplace)\n",
      "  (maxpool): MaxPool2d (size=(3, 3), stride=(2, 2), padding=(1, 1), dilation=(1, 1))\n",
      "  (layer1): Sequential (\n",
      "    (0): BasicBlock (\n",
      "      (conv1): Conv2d(64, 64, kernel_size=(3, 3), stride=(1, 1), padding=(1, 1), bias=False)\n",
      "      (bn1): BatchNorm2d(64, eps=1e-05, momentum=0.1, affine=True)\n",
      "      (relu): ReLU (inplace)\n",
      "      (conv2): Conv2d(64, 64, kernel_size=(3, 3), stride=(1, 1), padding=(1, 1), bias=False)\n",
      "      (bn2): BatchNorm2d(64, eps=1e-05, momentum=0.1, affine=True)\n",
      "    )\n",
      "    (1): BasicBlock (\n",
      "      (conv1): Conv2d(64, 64, kernel_size=(3, 3), stride=(1, 1), padding=(1, 1), bias=False)\n",
      "      (bn1): BatchNorm2d(64, eps=1e-05, momentum=0.1, affine=True)\n",
      "      (relu): ReLU (inplace)\n",
      "      (conv2): Conv2d(64, 64, kernel_size=(3, 3), stride=(1, 1), padding=(1, 1), bias=False)\n",
      "      (bn2): BatchNorm2d(64, eps=1e-05, momentum=0.1, affine=True)\n",
      "    )\n",
      "  )\n",
      "  (layer2): Sequential (\n",
      "    (0): BasicBlock (\n",
      "      (conv1): Conv2d(64, 128, kernel_size=(3, 3), stride=(2, 2), padding=(1, 1), bias=False)\n",
      "      (bn1): BatchNorm2d(128, eps=1e-05, momentum=0.1, affine=True)\n",
      "      (relu): ReLU (inplace)\n",
      "      (conv2): Conv2d(128, 128, kernel_size=(3, 3), stride=(1, 1), padding=(1, 1), bias=False)\n",
      "      (bn2): BatchNorm2d(128, eps=1e-05, momentum=0.1, affine=True)\n",
      "      (downsample): Sequential (\n",
      "        (0): Conv2d(64, 128, kernel_size=(1, 1), stride=(2, 2), bias=False)\n",
      "        (1): BatchNorm2d(128, eps=1e-05, momentum=0.1, affine=True)\n",
      "      )\n",
      "    )\n",
      "    (1): BasicBlock (\n",
      "      (conv1): Conv2d(128, 128, kernel_size=(3, 3), stride=(1, 1), padding=(1, 1), bias=False)\n",
      "      (bn1): BatchNorm2d(128, eps=1e-05, momentum=0.1, affine=True)\n",
      "      (relu): ReLU (inplace)\n",
      "      (conv2): Conv2d(128, 128, kernel_size=(3, 3), stride=(1, 1), padding=(1, 1), bias=False)\n",
      "      (bn2): BatchNorm2d(128, eps=1e-05, momentum=0.1, affine=True)\n",
      "    )\n",
      "  )\n",
      "  (layer3): Sequential (\n",
      "    (0): BasicBlock (\n",
      "      (conv1): Conv2d(128, 256, kernel_size=(3, 3), stride=(2, 2), padding=(1, 1), bias=False)\n",
      "      (bn1): BatchNorm2d(256, eps=1e-05, momentum=0.1, affine=True)\n",
      "      (relu): ReLU (inplace)\n",
      "      (conv2): Conv2d(256, 256, kernel_size=(3, 3), stride=(1, 1), padding=(1, 1), bias=False)\n",
      "      (bn2): BatchNorm2d(256, eps=1e-05, momentum=0.1, affine=True)\n",
      "      (downsample): Sequential (\n",
      "        (0): Conv2d(128, 256, kernel_size=(1, 1), stride=(2, 2), bias=False)\n",
      "        (1): BatchNorm2d(256, eps=1e-05, momentum=0.1, affine=True)\n",
      "      )\n",
      "    )\n",
      "    (1): BasicBlock (\n",
      "      (conv1): Conv2d(256, 256, kernel_size=(3, 3), stride=(1, 1), padding=(1, 1), bias=False)\n",
      "      (bn1): BatchNorm2d(256, eps=1e-05, momentum=0.1, affine=True)\n",
      "      (relu): ReLU (inplace)\n",
      "      (conv2): Conv2d(256, 256, kernel_size=(3, 3), stride=(1, 1), padding=(1, 1), bias=False)\n",
      "      (bn2): BatchNorm2d(256, eps=1e-05, momentum=0.1, affine=True)\n",
      "    )\n",
      "  )\n",
      "  (layer4): Sequential (\n",
      "    (0): BasicBlock (\n",
      "      (conv1): Conv2d(256, 512, kernel_size=(3, 3), stride=(2, 2), padding=(1, 1), bias=False)\n",
      "      (bn1): BatchNorm2d(512, eps=1e-05, momentum=0.1, affine=True)\n",
      "      (relu): ReLU (inplace)\n",
      "      (conv2): Conv2d(512, 512, kernel_size=(3, 3), stride=(1, 1), padding=(1, 1), bias=False)\n",
      "      (bn2): BatchNorm2d(512, eps=1e-05, momentum=0.1, affine=True)\n",
      "      (downsample): Sequential (\n",
      "        (0): Conv2d(256, 512, kernel_size=(1, 1), stride=(2, 2), bias=False)\n",
      "        (1): BatchNorm2d(512, eps=1e-05, momentum=0.1, affine=True)\n",
      "      )\n",
      "    )\n",
      "    (1): BasicBlock (\n",
      "      (conv1): Conv2d(512, 512, kernel_size=(3, 3), stride=(1, 1), padding=(1, 1), bias=False)\n",
      "      (bn1): BatchNorm2d(512, eps=1e-05, momentum=0.1, affine=True)\n",
      "      (relu): ReLU (inplace)\n",
      "      (conv2): Conv2d(512, 512, kernel_size=(3, 3), stride=(1, 1), padding=(1, 1), bias=False)\n",
      "      (bn2): BatchNorm2d(512, eps=1e-05, momentum=0.1, affine=True)\n",
      "    )\n",
      "  )\n",
      "  (avgpool): AvgPool2d (size=7, stride=7, padding=0, ceil_mode=False, count_include_pad=True)\n",
      "  (fc): Linear (512 -> 655)\n",
      ")\n"
     ]
    }
   ],
   "source": [
    "print(model)"
   ]
  },
  {
   "cell_type": "code",
   "execution_count": 90,
   "metadata": {
    "ExecuteTime": {
     "end_time": "2017-09-06T15:57:00.947389Z",
     "start_time": "2017-09-06T15:57:00.909503Z"
    }
   },
   "outputs": [],
   "source": [
    "feature_extractor = nn.Sequential(*list(model.children())[:-2])\n",
    "class_weighter = nn.Sequential(*list(model.children())[:-1])"
   ]
  },
  {
   "cell_type": "code",
   "execution_count": 95,
   "metadata": {
    "ExecuteTime": {
     "end_time": "2017-09-06T16:00:55.231374Z",
     "start_time": "2017-09-06T16:00:53.954205Z"
    }
   },
   "outputs": [
    {
     "name": "stdout",
     "output_type": "stream",
     "text": [
      "[[ 3.87931633  5.43117428  6.84020615  6.50841045  5.09973955  4.35748005\n",
      "   3.21372366]\n",
      " [ 5.29686403  7.32127953  6.90454388  7.26271152  3.27393198  5.13797903\n",
      "   5.78631496]\n",
      " [ 5.2273345   8.31282234  9.40685463  7.79715776  4.04397964  4.48907471\n",
      "   4.51025343]\n",
      " [ 5.0350976   7.98308754  8.39721012  6.66860056  2.60615182  3.08070183\n",
      "   2.16655469]\n",
      " [ 6.47694683  9.47051239  4.96564531  4.74222994  1.97507548  0.4090479\n",
      "   0.23092116]\n",
      " [ 8.03375721  8.06864262  3.47712088  3.40786695  1.78303087  1.82380354\n",
      "   2.00484848]\n",
      " [ 5.27673721  5.5357976   3.49029684  2.52119875  0.68547672  0.\n",
      "   0.70518965]]\n"
     ]
    }
   ],
   "source": [
    "import numpy as np\n",
    "for i, data in enumerate(test_loader):\n",
    "    inputs, labels, img_path = data\n",
    "    inputs, labels = Variable(inputs), Variable(labels)\n",
    "\n",
    "    outputs = feature_extractor(inputs)\n",
    "    class_weights = class_weighter(inputs)\n",
    "    conv_outputs = outputs[0].data.cpu().numpy()\n",
    "    cam = np.zeros(dtype = np.float32, shape = conv_outputs.shape[1:3])\n",
    "#     print(cam)\n",
    "#     print(class_weights)\n",
    "    target_class = 1\n",
    "    for i, w in enumerate(class_weights[:, target_class]):\n",
    "        cam +=  conv_outputs[i, :, :]\n",
    "    print(cam)\n",
    "    break"
   ]
  },
  {
   "cell_type": "code",
   "execution_count": null,
   "metadata": {
    "collapsed": true
   },
   "outputs": [],
   "source": []
  },
  {
   "cell_type": "code",
   "execution_count": null,
   "metadata": {
    "collapsed": true
   },
   "outputs": [],
   "source": []
  }
 ],
 "metadata": {
  "kernelspec": {
   "display_name": "Python 3",
   "language": "python",
   "name": "python3"
  },
  "language_info": {
   "codemirror_mode": {
    "name": "ipython",
    "version": 3
   },
   "file_extension": ".py",
   "mimetype": "text/x-python",
   "name": "python",
   "nbconvert_exporter": "python",
   "pygments_lexer": "ipython3",
   "version": "3.6.2"
  },
  "toc": {
   "colors": {
    "hover_highlight": "#DAA520",
    "navigate_num": "#000000",
    "navigate_text": "#333333",
    "running_highlight": "#FF0000",
    "selected_highlight": "#FFD700",
    "sidebar_border": "#EEEEEE",
    "wrapper_background": "#FFFFFF"
   },
   "moveMenuLeft": true,
   "nav_menu": {
    "height": "4px",
    "width": "253px"
   },
   "navigate_menu": true,
   "number_sections": true,
   "sideBar": true,
   "threshold": 4,
   "toc_cell": false,
   "toc_section_display": "block",
   "toc_window_display": false,
   "widenNotebook": false
  }
 },
 "nbformat": 4,
 "nbformat_minor": 2
}
