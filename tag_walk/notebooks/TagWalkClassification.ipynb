{
 "cells": [
  {
   "cell_type": "code",
   "execution_count": 1,
   "metadata": {
    "ExecuteTime": {
     "end_time": "2017-08-06T16:49:00.892274Z",
     "start_time": "2017-08-06T16:49:00.306780Z"
    }
   },
   "outputs": [
    {
     "name": "stdout",
     "output_type": "stream",
     "text": [
      "Populating the interactive namespace from numpy and matplotlib\n"
     ]
    }
   ],
   "source": [
    "%load_ext autoreload\n",
    "%autoreload 2\n",
    "%pylab inline\n",
    "%matplotlib inline"
   ]
  },
  {
   "cell_type": "code",
   "execution_count": null,
   "metadata": {
    "ExecuteTime": {
     "end_time": "2017-08-06T15:42:43.471336Z",
     "start_time": "2017-08-06T15:42:43.412952Z"
    }
   },
   "outputs": [],
   "source": [
    "import pandas as pd\n",
    "import torch\n",
    "\n",
    "from torch.utils.data.dataset import Dataset\n",
    "from torch.utils.data import DataLoader\n",
    "\n",
    "from sklearn.preprocessing import MultiLabelBinarizer\n",
    "\n",
    "from PIL import Image\n",
    "\n",
    "\n",
    "class TagwalkDataset(Dataset):\n",
    "    def __init__(self, csv_path, img_path, img_ext, transform=None):\n",
    "    \n",
    "        self.reference_dataset = self.read_reference_dataset(csv_path)\n",
    "        print self.reference_dataset.head()\n",
    "        \n",
    "        self.mlb = MultiLabelBinarizer()\n",
    "        self.img_path = img_path\n",
    "        self.img_ext = img_ext\n",
    "        self.transform = transform\n",
    "\n",
    "        self.X_train = self.reference_dataset['image']\n",
    "        self.y_train = self.mlb.fit_transform(\n",
    "            self.reference_dataset['tags']\n",
    "        ).astype(np.float32)\n",
    "\n",
    "    def read_reference_dataset(self, csv_path):\n",
    "        tmp_df = pd.read_csv(csv_path)\n",
    "        \n",
    "        tmp_df = (\n",
    "            tmp_df\n",
    "            .groupby('image')['tag']\n",
    "            .apply(list)\n",
    "        ).reset_index()\n",
    "        tmp_df.columns = ['image', 'tags']\n",
    "        return tmp_df\n",
    "        \n",
    "    def __getitem__(self, index):\n",
    "        item_img_path = '/'.join([\n",
    "            self.img_path,\n",
    "            self.X_train[index]\n",
    "        ])\n",
    "        img = Image.open(item_img_path)\n",
    "        img = img.convert('RGB')\n",
    "        if self.transform is not None:\n",
    "            img = self.transform(img)\n",
    "        \n",
    "        label = torch.from_numpy(self.y_train[index])\n",
    "        return img, label\n",
    "\n",
    "    def __len__(self):\n",
    "        return len(self.X_train.index)"
   ]
  },
  {
   "cell_type": "code",
   "execution_count": null,
   "metadata": {
    "ExecuteTime": {
     "end_time": "2017-08-06T15:45:20.214048Z",
     "start_time": "2017-08-06T15:45:17.298973Z"
    }
   },
   "outputs": [],
   "source": [
    "BASE_DATA = '/Volumes/bobby/tag_walk/tag_walk/data/tag_walk/'\n",
    "\n",
    "\n",
    "\n",
    "tw_dataset = TagwalkDataset(\n",
    "    csv_path=BASE_DATA + 'assocs.csv',\n",
    "    img_path=BASE_DATA + 'images/all',\n",
    "    img_ext='jpg',\n",
    "    transform=(\n",
    ")\n",
    ")"
   ]
  },
  {
   "cell_type": "code",
   "execution_count": null,
   "metadata": {
    "ExecuteTime": {
     "end_time": "2017-08-06T16:04:30.142687Z",
     "start_time": "2017-08-06T16:04:30.026395Z"
    }
   },
   "outputs": [],
   "source": [
    "tw_dataset[0][0]"
   ]
  },
  {
   "cell_type": "code",
   "execution_count": 2,
   "metadata": {
    "ExecuteTime": {
     "end_time": "2017-08-06T16:49:08.444612Z",
     "start_time": "2017-08-06T16:49:07.017771Z"
    }
   },
   "outputs": [],
   "source": [
    "from fachung.datasets.tagwalk import TagwalkDataset"
   ]
  },
  {
   "cell_type": "code",
   "execution_count": 5,
   "metadata": {
    "ExecuteTime": {
     "end_time": "2017-08-06T16:51:15.603030Z",
     "start_time": "2017-08-06T16:51:12.198468Z"
    }
   },
   "outputs": [
    {
     "name": "stdout",
     "output_type": "stream",
     "text": [
      "/Volumes/bobby//tag_walk/tag_walk//data/tag_walk/\n",
      "                          image  \\\n",
      "0  001 Valentino PAP FW1617.jpg   \n",
      "1     001-LEONARD_PREFALL17.jpg   \n",
      "2                       001.jpg   \n",
      "3               001ALF_0016.JPG   \n",
      "4              001_CSC_0016.jpg   \n",
      "\n",
      "                                                tags  \n",
      "0  [army, black, coat, double-breast, long-coat, ...  \n",
      "1  [art, blue, blue-pants, blue-trousers, floral,...  \n",
      "2  [beige, black, bustier, dominatrix, dress, flo...  \n",
      "3  [1960, blue, bomber, mini-skirt, navy-blue, na...  \n",
      "4          [brown, dance, dress, lace, pearls, silk]  \n"
     ]
    }
   ],
   "source": [
    "tw_dataset = TagwalkDataset()"
   ]
  },
  {
   "cell_type": "code",
   "execution_count": 7,
   "metadata": {
    "ExecuteTime": {
     "end_time": "2017-08-06T16:52:26.283786Z",
     "start_time": "2017-08-06T16:52:26.250567Z"
    }
   },
   "outputs": [],
   "source": [
    "from torch.utils.data import DataLoader\n",
    "\n",
    "train_loader = DataLoader(tw_dataset,\n",
    "                          batch_size=256,\n",
    "                          shuffle=True,\n",
    "                          num_workers=4)"
   ]
  },
  {
   "cell_type": "code",
   "execution_count": 8,
   "metadata": {
    "ExecuteTime": {
     "end_time": "2017-08-06T16:52:30.404173Z",
     "start_time": "2017-08-06T16:52:30.365573Z"
    }
   },
   "outputs": [
    {
     "data": {
      "text/plain": [
       "<torch.utils.data.dataloader.DataLoader at 0x119208510>"
      ]
     },
     "execution_count": 8,
     "metadata": {},
     "output_type": "execute_result"
    }
   ],
   "source": [
    "train_loader"
   ]
  },
  {
   "cell_type": "code",
   "execution_count": null,
   "metadata": {
    "collapsed": true
   },
   "outputs": [],
   "source": []
  }
 ],
 "metadata": {
  "kernelspec": {
   "display_name": "Python 2",
   "language": "python",
   "name": "python2"
  },
  "language_info": {
   "codemirror_mode": {
    "name": "ipython",
    "version": 2
   },
   "file_extension": ".py",
   "mimetype": "text/x-python",
   "name": "python",
   "nbconvert_exporter": "python",
   "pygments_lexer": "ipython2",
   "version": "2.7.11"
  }
 },
 "nbformat": 4,
 "nbformat_minor": 2
}
