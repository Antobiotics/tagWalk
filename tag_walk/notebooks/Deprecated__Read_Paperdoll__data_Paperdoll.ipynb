{
 "cells": [
  {
   "cell_type": "code",
   "execution_count": 2,
   "metadata": {
    "ExecuteTime": {
     "end_time": "2017-07-01T11:24:35.887241Z",
     "start_time": "2017-07-01T11:24:35.883354Z"
    },
    "collapsed": true
   },
   "outputs": [],
   "source": [
    "PAPERDOLL_DATA_PATH = '../data/paperdoll/data/'"
   ]
  },
  {
   "cell_type": "markdown",
   "metadata": {},
   "source": [
    "### Paperdoll"
   ]
  },
  {
   "cell_type": "code",
   "execution_count": 3,
   "metadata": {
    "ExecuteTime": {
     "end_time": "2017-07-01T11:24:36.894780Z",
     "start_time": "2017-07-01T11:24:36.891198Z"
    },
    "collapsed": true
   },
   "outputs": [],
   "source": [
    "PAPERDOLL_PATH = PAPERDOLL_DATA_PATH + '/paperdoll_dataset.mat'"
   ]
  },
  {
   "cell_type": "code",
   "execution_count": 4,
   "metadata": {
    "ExecuteTime": {
     "end_time": "2017-07-01T11:25:00.830888Z",
     "start_time": "2017-07-01T11:24:37.418713Z"
    },
    "collapsed": true
   },
   "outputs": [],
   "source": [
    "import scipy.io\n",
    "paperdoll_mat = scipy.io.loadmat(PAPERDOLL_PATH)"
   ]
  },
  {
   "cell_type": "markdown",
   "metadata": {},
   "source": [
    "Two indexes of interest: labels and samples"
   ]
  },
  {
   "cell_type": "code",
   "execution_count": 5,
   "metadata": {
    "ExecuteTime": {
     "end_time": "2017-07-01T11:25:00.864684Z",
     "start_time": "2017-07-01T11:25:00.834578Z"
    }
   },
   "outputs": [
    {
     "data": {
      "text/plain": [
       "['labels', '__version__', '__header__', 'samples', '__globals__']"
      ]
     },
     "execution_count": 5,
     "metadata": {},
     "output_type": "execute_result"
    }
   ],
   "source": [
    "paperdoll_mat.keys()"
   ]
  },
  {
   "cell_type": "code",
   "execution_count": 6,
   "metadata": {
    "ExecuteTime": {
     "end_time": "2017-07-01T11:25:00.876044Z",
     "start_time": "2017-07-01T11:25:00.868251Z"
    }
   },
   "outputs": [
    {
     "data": {
      "text/plain": [
       "array([[ ([[10]], [u'http://images1.chictopia.com/photos/homme/5747766283/5747766283_400.jpg'], [u'http://www.chictopia.com/photo/show/16781'], [[22, 23, 35, 43]]),\n",
       "        ([[15]], [u'http://images2.chictopia.com/photos/homme/4228182085/4228182085_400.jpg'], [u'http://www.chictopia.com/photo/show/9833'], [[22, 23, 35, 36]]),\n",
       "        ([[18]], [u'http://images3.chictopia.com/photos/homme/4923665344/3901610044/3901610044_400.jpg'], [u'http://www.chictopia.com/photo/show/7413'], [[35]]),\n",
       "        ...,\n",
       "        ([[1115982]], [u'http://images2.chictopia.com/photos/stellapnp/4980952478/6165230825/white-peace-sign-romwe-sweater-pink-oasap-boots-black-velvet-romwe-leggings_400.jpg'], [u'http://www.chictopia.com/photo/show/781258'], [[2, 7, 25, 35, 43, 44]]),\n",
       "        ([[1115984]], [u'http://images3.chictopia.com/photos/stellapnp/8893118814/ruby-red-boots-navy-lace-zara-dress-navy-galaxy-romwe-coat_400.jpg'], [u'http://www.chictopia.com/photo/show/780885'], [[2, 7, 13, 14, 19, 34]]),\n",
       "        ([[1115985]], [u'http://images0.chictopia.com/photos/sommerfashion/4323031089/black-leather-ralph-lauren-jacket-red-glitter-cato-shirt_400.jpg'], [u'http://www.chictopia.com/photo/show/780460'], [[22, 35]])]], \n",
       "      dtype=[('id', 'O'), ('url', 'O'), ('post_url', 'O'), ('tagging', 'O')])"
      ]
     },
     "execution_count": 6,
     "metadata": {},
     "output_type": "execute_result"
    }
   ],
   "source": [
    "paperdoll_mat['samples']"
   ]
  },
  {
   "cell_type": "code",
   "execution_count": 7,
   "metadata": {
    "ExecuteTime": {
     "end_time": "2017-07-01T11:25:00.896308Z",
     "start_time": "2017-07-01T11:25:00.878865Z"
    }
   },
   "outputs": [
    {
     "data": {
      "text/plain": [
       "array([[array([u'accessories'], \n",
       "      dtype='<U11'),\n",
       "        array([u'bag'], \n",
       "      dtype='<U3'),\n",
       "        array([u'belt'], \n",
       "      dtype='<U4'),\n",
       "        array([u'blazer'], \n",
       "      dtype='<U6'),\n",
       "        array([u'blouse'], \n",
       "      dtype='<U6'),\n",
       "        array([u'bodysuit'], \n",
       "      dtype='<U8'),\n",
       "        array([u'boots'], \n",
       "      dtype='<U5'),\n",
       "        array([u'bra'], \n",
       "      dtype='<U3'),\n",
       "        array([u'bracelet'], \n",
       "      dtype='<U8'),\n",
       "        array([u'cape'], \n",
       "      dtype='<U4'),\n",
       "        array([u'cardigan'], \n",
       "      dtype='<U8'),\n",
       "        array([u'clogs'], \n",
       "      dtype='<U5'),\n",
       "        array([u'coat'], \n",
       "      dtype='<U4'),\n",
       "        array([u'dress'], \n",
       "      dtype='<U5'),\n",
       "        array([u'earrings'], \n",
       "      dtype='<U8'),\n",
       "        array([u'flats'], \n",
       "      dtype='<U5'),\n",
       "        array([u'glasses'], \n",
       "      dtype='<U7'),\n",
       "        array([u'gloves'], \n",
       "      dtype='<U6'),\n",
       "        array([u'hat'], \n",
       "      dtype='<U3'),\n",
       "        array([u'heels'], \n",
       "      dtype='<U5'),\n",
       "        array([u'intimate'], \n",
       "      dtype='<U8'),\n",
       "        array([u'jacket'], \n",
       "      dtype='<U6'),\n",
       "        array([u'jeans'], \n",
       "      dtype='<U5'),\n",
       "        array([u'jumper'], \n",
       "      dtype='<U6'),\n",
       "        array([u'leggings'], \n",
       "      dtype='<U8'),\n",
       "        array([u'loafers'], \n",
       "      dtype='<U7'),\n",
       "        array([u'necklace'], \n",
       "      dtype='<U8'),\n",
       "        array([u'pants'], \n",
       "      dtype='<U5'),\n",
       "        array([u'pumps'], \n",
       "      dtype='<U5'),\n",
       "        array([u'purse'], \n",
       "      dtype='<U5'),\n",
       "        array([u'ring'], \n",
       "      dtype='<U4'),\n",
       "        array([u'romper'], \n",
       "      dtype='<U6'),\n",
       "        array([u'sandals'], \n",
       "      dtype='<U7'),\n",
       "        array([u'scarf'], \n",
       "      dtype='<U5'),\n",
       "        array([u'shirt'], \n",
       "      dtype='<U5'),\n",
       "        array([u'shoes'], \n",
       "      dtype='<U5'),\n",
       "        array([u'shorts'], \n",
       "      dtype='<U6'),\n",
       "        array([u'skirt'], \n",
       "      dtype='<U5'),\n",
       "        array([u'sneakers'], \n",
       "      dtype='<U8'),\n",
       "        array([u'socks'], \n",
       "      dtype='<U5'),\n",
       "        array([u'stockings'], \n",
       "      dtype='<U9'),\n",
       "        array([u'suit'], \n",
       "      dtype='<U4'),\n",
       "        array([u'sunglasses'], \n",
       "      dtype='<U10'),\n",
       "        array([u'sweater'], \n",
       "      dtype='<U7'),\n",
       "        array([u'sweatshirt'], \n",
       "      dtype='<U10'),\n",
       "        array([u't-shirt'], \n",
       "      dtype='<U7'),\n",
       "        array([u'tie'], \n",
       "      dtype='<U3'),\n",
       "        array([u'tights'], \n",
       "      dtype='<U6'),\n",
       "        array([u'top'], \n",
       "      dtype='<U3'),\n",
       "        array([u'vest'], \n",
       "      dtype='<U4'),\n",
       "        array([u'wallet'], \n",
       "      dtype='<U6'),\n",
       "        array([u'watch'], \n",
       "      dtype='<U5'),\n",
       "        array([u'wedges'], \n",
       "      dtype='<U6')]], dtype=object)"
      ]
     },
     "execution_count": 7,
     "metadata": {},
     "output_type": "execute_result"
    }
   ],
   "source": [
    "paperdoll_mat['labels']"
   ]
  },
  {
   "cell_type": "markdown",
   "metadata": {},
   "source": [
    "#### Labels data"
   ]
  },
  {
   "cell_type": "code",
   "execution_count": 8,
   "metadata": {
    "ExecuteTime": {
     "end_time": "2017-07-01T11:25:01.521537Z",
     "start_time": "2017-07-01T11:25:00.899143Z"
    }
   },
   "outputs": [
    {
     "data": {
      "text/html": [
       "<div>\n",
       "<table border=\"1\" class=\"dataframe\">\n",
       "  <thead>\n",
       "    <tr style=\"text-align: right;\">\n",
       "      <th></th>\n",
       "      <th>label</th>\n",
       "      <th>index</th>\n",
       "    </tr>\n",
       "  </thead>\n",
       "  <tbody>\n",
       "    <tr>\n",
       "      <th>0</th>\n",
       "      <td>accessories</td>\n",
       "      <td>0</td>\n",
       "    </tr>\n",
       "    <tr>\n",
       "      <th>1</th>\n",
       "      <td>bag</td>\n",
       "      <td>1</td>\n",
       "    </tr>\n",
       "    <tr>\n",
       "      <th>2</th>\n",
       "      <td>belt</td>\n",
       "      <td>2</td>\n",
       "    </tr>\n",
       "    <tr>\n",
       "      <th>3</th>\n",
       "      <td>blazer</td>\n",
       "      <td>3</td>\n",
       "    </tr>\n",
       "    <tr>\n",
       "      <th>4</th>\n",
       "      <td>blouse</td>\n",
       "      <td>4</td>\n",
       "    </tr>\n",
       "  </tbody>\n",
       "</table>\n",
       "</div>"
      ],
      "text/plain": [
       "         label  index\n",
       "0  accessories      0\n",
       "1          bag      1\n",
       "2         belt      2\n",
       "3       blazer      3\n",
       "4       blouse      4"
      ]
     },
     "execution_count": 8,
     "metadata": {},
     "output_type": "execute_result"
    }
   ],
   "source": [
    "import pandas as pd\n",
    "\n",
    "def rowIndex(row):\n",
    "    return row.name\n",
    "\n",
    "paperdoll_labels_df = (\n",
    "    pd.DataFrame(paperdoll_mat['labels'])\n",
    "    .transpose()\n",
    ")\n",
    "paperdoll_labels_df.head()\n",
    "paperdoll_labels_df['index'] = (\n",
    "    paperdoll_labels_df\n",
    "    .apply(lambda row: rowIndex(row), axis=1)\n",
    ")\n",
    "\n",
    "paperdoll_labels_df.columns = ['label', 'index']\n",
    "\n",
    "paperdoll_labels_df['label'] = (\n",
    "    paperdoll_labels_df['label']\n",
    "    .apply(lambda row: row[0])\n",
    ")\n",
    "\n",
    "paperdoll_labels_df.head()"
   ]
  },
  {
   "cell_type": "code",
   "execution_count": 9,
   "metadata": {
    "ExecuteTime": {
     "end_time": "2017-07-01T11:25:01.536396Z",
     "start_time": "2017-07-01T11:25:01.525722Z"
    },
    "collapsed": true
   },
   "outputs": [],
   "source": [
    "def get_label_index(label_name):\n",
    "    return paperdoll_labels_df[\n",
    "        paperdoll_labels_df.label == label_name\n",
    "    ].index[0]\n",
    "\n",
    "def get_label_name(label_index):\n",
    "    return paperdoll_labels_df[\n",
    "        paperdoll_labels_df.index == label_index\n",
    "    ].label.values\n",
    "\n",
    "assert get_label_name(get_label_index('bodysuit')) == 'bodysuit'"
   ]
  },
  {
   "cell_type": "code",
   "execution_count": 10,
   "metadata": {
    "ExecuteTime": {
     "end_time": "2017-07-01T11:25:05.495648Z",
     "start_time": "2017-07-01T11:25:01.539721Z"
    }
   },
   "outputs": [
    {
     "name": "stdout",
     "output_type": "stream",
     "text": [
      "(568340, 4)\n"
     ]
    },
    {
     "data": {
      "text/html": [
       "<div>\n",
       "<table border=\"1\" class=\"dataframe\">\n",
       "  <thead>\n",
       "    <tr style=\"text-align: right;\">\n",
       "      <th></th>\n",
       "      <th>id</th>\n",
       "      <th>url</th>\n",
       "      <th>post_url</th>\n",
       "      <th>tagging</th>\n",
       "    </tr>\n",
       "  </thead>\n",
       "  <tbody>\n",
       "    <tr>\n",
       "      <th>0</th>\n",
       "      <td>10</td>\n",
       "      <td>http://images1.chictopia.com/photos/homme/5747...</td>\n",
       "      <td>http://www.chictopia.com/photo/show/16781</td>\n",
       "      <td>[22, 23, 35, 43]</td>\n",
       "    </tr>\n",
       "    <tr>\n",
       "      <th>1</th>\n",
       "      <td>15</td>\n",
       "      <td>http://images2.chictopia.com/photos/homme/4228...</td>\n",
       "      <td>http://www.chictopia.com/photo/show/9833</td>\n",
       "      <td>[22, 23, 35, 36]</td>\n",
       "    </tr>\n",
       "    <tr>\n",
       "      <th>2</th>\n",
       "      <td>18</td>\n",
       "      <td>http://images3.chictopia.com/photos/homme/4923...</td>\n",
       "      <td>http://www.chictopia.com/photo/show/7413</td>\n",
       "      <td>[35]</td>\n",
       "    </tr>\n",
       "    <tr>\n",
       "      <th>3</th>\n",
       "      <td>27</td>\n",
       "      <td>http://images0.chictopia.com/photos/homme/3485...</td>\n",
       "      <td>http://www.chictopia.com/photo/show/1382</td>\n",
       "      <td>[4, 28, 35, 36]</td>\n",
       "    </tr>\n",
       "    <tr>\n",
       "      <th>4</th>\n",
       "      <td>32</td>\n",
       "      <td>http://images1.chictopia.com/photos/thefashbot...</td>\n",
       "      <td>http://www.chictopia.com/photo/show/2841</td>\n",
       "      <td>[36, 37, 40, 46]</td>\n",
       "    </tr>\n",
       "  </tbody>\n",
       "</table>\n",
       "</div>"
      ],
      "text/plain": [
       "   id                                                url  \\\n",
       "0  10  http://images1.chictopia.com/photos/homme/5747...   \n",
       "1  15  http://images2.chictopia.com/photos/homme/4228...   \n",
       "2  18  http://images3.chictopia.com/photos/homme/4923...   \n",
       "3  27  http://images0.chictopia.com/photos/homme/3485...   \n",
       "4  32  http://images1.chictopia.com/photos/thefashbot...   \n",
       "\n",
       "                                    post_url           tagging  \n",
       "0  http://www.chictopia.com/photo/show/16781  [22, 23, 35, 43]  \n",
       "1   http://www.chictopia.com/photo/show/9833  [22, 23, 35, 36]  \n",
       "2   http://www.chictopia.com/photo/show/7413              [35]  \n",
       "3   http://www.chictopia.com/photo/show/1382   [4, 28, 35, 36]  \n",
       "4   http://www.chictopia.com/photo/show/2841  [36, 37, 40, 46]  "
      ]
     },
     "execution_count": 10,
     "metadata": {},
     "output_type": "execute_result"
    }
   ],
   "source": [
    "paperdoll_df = pd.DataFrame(paperdoll_mat['samples'][0])\n",
    "\n",
    "paperdoll_df['id'] = (\n",
    "    paperdoll_df['id']\n",
    "    .apply(lambda row: row[0][0])\n",
    ")\n",
    "\n",
    "paperdoll_df['url'] = (\n",
    "    paperdoll_df['url']\n",
    "    .apply(lambda row: row[0])\n",
    ")\n",
    "\n",
    "paperdoll_df['post_url'] = (\n",
    "    paperdoll_df['post_url']\n",
    "    .apply(lambda row: row[0])\n",
    ")\n",
    "\n",
    "paperdoll_df['tagging'] = (\n",
    "    paperdoll_df['tagging']\n",
    "    .apply(lambda row: row[0])\n",
    ")\n",
    "\n",
    "print paperdoll_df.shape\n",
    "paperdoll_df.head()"
   ]
  },
  {
   "cell_type": "code",
   "execution_count": 11,
   "metadata": {
    "ExecuteTime": {
     "end_time": "2017-07-01T11:39:24.498427Z",
     "start_time": "2017-07-01T11:25:05.500183Z"
    }
   },
   "outputs": [
    {
     "data": {
      "text/html": [
       "<div>\n",
       "<table border=\"1\" class=\"dataframe\">\n",
       "  <thead>\n",
       "    <tr style=\"text-align: right;\">\n",
       "      <th></th>\n",
       "      <th>id</th>\n",
       "      <th>url</th>\n",
       "      <th>post_url</th>\n",
       "      <th>tagging</th>\n",
       "      <th>labels</th>\n",
       "    </tr>\n",
       "  </thead>\n",
       "  <tbody>\n",
       "    <tr>\n",
       "      <th>0</th>\n",
       "      <td>10</td>\n",
       "      <td>http://images1.chictopia.com/photos/homme/5747...</td>\n",
       "      <td>http://www.chictopia.com/photo/show/16781</td>\n",
       "      <td>[22, 23, 35, 43]</td>\n",
       "      <td>[[jeans], [jumper], [shoes], [sweater]]</td>\n",
       "    </tr>\n",
       "    <tr>\n",
       "      <th>1</th>\n",
       "      <td>15</td>\n",
       "      <td>http://images2.chictopia.com/photos/homme/4228...</td>\n",
       "      <td>http://www.chictopia.com/photo/show/9833</td>\n",
       "      <td>[22, 23, 35, 36]</td>\n",
       "      <td>[[jeans], [jumper], [shoes], [shorts]]</td>\n",
       "    </tr>\n",
       "    <tr>\n",
       "      <th>2</th>\n",
       "      <td>18</td>\n",
       "      <td>http://images3.chictopia.com/photos/homme/4923...</td>\n",
       "      <td>http://www.chictopia.com/photo/show/7413</td>\n",
       "      <td>[35]</td>\n",
       "      <td>[[shoes]]</td>\n",
       "    </tr>\n",
       "    <tr>\n",
       "      <th>3</th>\n",
       "      <td>27</td>\n",
       "      <td>http://images0.chictopia.com/photos/homme/3485...</td>\n",
       "      <td>http://www.chictopia.com/photo/show/1382</td>\n",
       "      <td>[4, 28, 35, 36]</td>\n",
       "      <td>[[blouse], [pumps], [shoes], [shorts]]</td>\n",
       "    </tr>\n",
       "    <tr>\n",
       "      <th>4</th>\n",
       "      <td>32</td>\n",
       "      <td>http://images1.chictopia.com/photos/thefashbot...</td>\n",
       "      <td>http://www.chictopia.com/photo/show/2841</td>\n",
       "      <td>[36, 37, 40, 46]</td>\n",
       "      <td>[[shorts], [skirt], [stockings], [tie]]</td>\n",
       "    </tr>\n",
       "  </tbody>\n",
       "</table>\n",
       "</div>"
      ],
      "text/plain": [
       "   id                                                url  \\\n",
       "0  10  http://images1.chictopia.com/photos/homme/5747...   \n",
       "1  15  http://images2.chictopia.com/photos/homme/4228...   \n",
       "2  18  http://images3.chictopia.com/photos/homme/4923...   \n",
       "3  27  http://images0.chictopia.com/photos/homme/3485...   \n",
       "4  32  http://images1.chictopia.com/photos/thefashbot...   \n",
       "\n",
       "                                    post_url           tagging  \\\n",
       "0  http://www.chictopia.com/photo/show/16781  [22, 23, 35, 43]   \n",
       "1   http://www.chictopia.com/photo/show/9833  [22, 23, 35, 36]   \n",
       "2   http://www.chictopia.com/photo/show/7413              [35]   \n",
       "3   http://www.chictopia.com/photo/show/1382   [4, 28, 35, 36]   \n",
       "4   http://www.chictopia.com/photo/show/2841  [36, 37, 40, 46]   \n",
       "\n",
       "                                    labels  \n",
       "0  [[jeans], [jumper], [shoes], [sweater]]  \n",
       "1   [[jeans], [jumper], [shoes], [shorts]]  \n",
       "2                                [[shoes]]  \n",
       "3   [[blouse], [pumps], [shoes], [shorts]]  \n",
       "4  [[shorts], [skirt], [stockings], [tie]]  "
      ]
     },
     "execution_count": 11,
     "metadata": {},
     "output_type": "execute_result"
    }
   ],
   "source": [
    "## Get plain labels\n",
    "\n",
    "def lookup_tags(row):\n",
    "    return [get_label_name(t) for t in row]\n",
    "\n",
    "paperdoll_df['labels'] = (\n",
    "    paperdoll_df['tagging']\n",
    "    .apply(lookup_tags)\n",
    ")\n",
    "paperdoll_df.head()"
   ]
  },
  {
   "cell_type": "code",
   "execution_count": 12,
   "metadata": {
    "ExecuteTime": {
     "end_time": "2017-07-01T11:39:24.531748Z",
     "start_time": "2017-07-01T11:39:24.500763Z"
    }
   },
   "outputs": [
    {
     "data": {
      "text/html": [
       "<div>\n",
       "<table border=\"1\" class=\"dataframe\">\n",
       "  <thead>\n",
       "    <tr style=\"text-align: right;\">\n",
       "      <th></th>\n",
       "      <th>id</th>\n",
       "      <th>url</th>\n",
       "      <th>post_url</th>\n",
       "      <th>tagging</th>\n",
       "      <th>labels</th>\n",
       "    </tr>\n",
       "  </thead>\n",
       "  <tbody>\n",
       "    <tr>\n",
       "      <th>0</th>\n",
       "      <td>10</td>\n",
       "      <td>http://images1.chictopia.com/photos/homme/5747...</td>\n",
       "      <td>http://www.chictopia.com/photo/show/16781</td>\n",
       "      <td>[22, 23, 35, 43]</td>\n",
       "      <td>[[jeans], [jumper], [shoes], [sweater]]</td>\n",
       "    </tr>\n",
       "    <tr>\n",
       "      <th>1</th>\n",
       "      <td>15</td>\n",
       "      <td>http://images2.chictopia.com/photos/homme/4228...</td>\n",
       "      <td>http://www.chictopia.com/photo/show/9833</td>\n",
       "      <td>[22, 23, 35, 36]</td>\n",
       "      <td>[[jeans], [jumper], [shoes], [shorts]]</td>\n",
       "    </tr>\n",
       "    <tr>\n",
       "      <th>2</th>\n",
       "      <td>18</td>\n",
       "      <td>http://images3.chictopia.com/photos/homme/4923...</td>\n",
       "      <td>http://www.chictopia.com/photo/show/7413</td>\n",
       "      <td>[35]</td>\n",
       "      <td>[[shoes]]</td>\n",
       "    </tr>\n",
       "    <tr>\n",
       "      <th>3</th>\n",
       "      <td>27</td>\n",
       "      <td>http://images0.chictopia.com/photos/homme/3485...</td>\n",
       "      <td>http://www.chictopia.com/photo/show/1382</td>\n",
       "      <td>[4, 28, 35, 36]</td>\n",
       "      <td>[[blouse], [pumps], [shoes], [shorts]]</td>\n",
       "    </tr>\n",
       "    <tr>\n",
       "      <th>4</th>\n",
       "      <td>32</td>\n",
       "      <td>http://images1.chictopia.com/photos/thefashbot...</td>\n",
       "      <td>http://www.chictopia.com/photo/show/2841</td>\n",
       "      <td>[36, 37, 40, 46]</td>\n",
       "      <td>[[shorts], [skirt], [stockings], [tie]]</td>\n",
       "    </tr>\n",
       "  </tbody>\n",
       "</table>\n",
       "</div>"
      ],
      "text/plain": [
       "   id                                                url  \\\n",
       "0  10  http://images1.chictopia.com/photos/homme/5747...   \n",
       "1  15  http://images2.chictopia.com/photos/homme/4228...   \n",
       "2  18  http://images3.chictopia.com/photos/homme/4923...   \n",
       "3  27  http://images0.chictopia.com/photos/homme/3485...   \n",
       "4  32  http://images1.chictopia.com/photos/thefashbot...   \n",
       "\n",
       "                                    post_url           tagging  \\\n",
       "0  http://www.chictopia.com/photo/show/16781  [22, 23, 35, 43]   \n",
       "1   http://www.chictopia.com/photo/show/9833  [22, 23, 35, 36]   \n",
       "2   http://www.chictopia.com/photo/show/7413              [35]   \n",
       "3   http://www.chictopia.com/photo/show/1382   [4, 28, 35, 36]   \n",
       "4   http://www.chictopia.com/photo/show/2841  [36, 37, 40, 46]   \n",
       "\n",
       "                                    labels  \n",
       "0  [[jeans], [jumper], [shoes], [sweater]]  \n",
       "1   [[jeans], [jumper], [shoes], [shorts]]  \n",
       "2                                [[shoes]]  \n",
       "3   [[blouse], [pumps], [shoes], [shorts]]  \n",
       "4  [[shorts], [skirt], [stockings], [tie]]  "
      ]
     },
     "execution_count": 12,
     "metadata": {},
     "output_type": "execute_result"
    }
   ],
   "source": [
    "paperdoll_df.head()"
   ]
  },
  {
   "cell_type": "code",
   "execution_count": 93,
   "metadata": {
    "ExecuteTime": {
     "end_time": "2017-06-10T18:12:52.848863Z",
     "start_time": "2017-06-10T18:10:15.269907Z"
    }
   },
   "outputs": [
    {
     "ename": "IOError",
     "evalue": "('http error', 403, 'Forbidden', <httplib.HTTPMessage instance at 0x1ab7ee3f8>)",
     "output_type": "error",
     "traceback": [
      "\u001b[0;31m---------------------------------------------------------------------------\u001b[0m",
      "\u001b[0;31mIOError\u001b[0m                                   Traceback (most recent call last)",
      "\u001b[0;32m<ipython-input-93-1506901cdd15>\u001b[0m in \u001b[0;36m<module>\u001b[0;34m()\u001b[0m\n\u001b[1;32m      8\u001b[0m     \u001b[0;32mif\u001b[0m \u001b[0mcursor\u001b[0m \u001b[0;34m>=\u001b[0m \u001b[0mlimit\u001b[0m\u001b[0;34m:\u001b[0m\u001b[0;34m\u001b[0m\u001b[0m\n\u001b[1;32m      9\u001b[0m         \u001b[0;32mbreak\u001b[0m\u001b[0;34m\u001b[0m\u001b[0m\n\u001b[0;32m---> 10\u001b[0;31m     \u001b[0mopener\u001b[0m\u001b[0;34m.\u001b[0m\u001b[0mretrieve\u001b[0m\u001b[0;34m(\u001b[0m\u001b[0mvalue\u001b[0m\u001b[0;34m[\u001b[0m\u001b[0;34m'url'\u001b[0m\u001b[0;34m]\u001b[0m\u001b[0;34m,\u001b[0m \u001b[0;34m'../data/paperdoll/paperdoll_images/'\u001b[0m \u001b[0;34m+\u001b[0m \u001b[0mstr\u001b[0m\u001b[0;34m(\u001b[0m\u001b[0mvalue\u001b[0m\u001b[0;34m[\u001b[0m\u001b[0;34m'id'\u001b[0m\u001b[0;34m]\u001b[0m\u001b[0;34m)\u001b[0m \u001b[0;34m+\u001b[0m \u001b[0;34m'.jpg'\u001b[0m\u001b[0;34m)\u001b[0m\u001b[0;34m\u001b[0m\u001b[0m\n\u001b[0m\u001b[1;32m     11\u001b[0m     \u001b[0mcursor\u001b[0m \u001b[0;34m=\u001b[0m \u001b[0mcursor\u001b[0m \u001b[0;34m+\u001b[0m \u001b[0;36m1\u001b[0m\u001b[0;34m\u001b[0m\u001b[0m\n\u001b[1;32m     12\u001b[0m \u001b[0;34m\u001b[0m\u001b[0m\n",
      "\u001b[0;32m/usr/local/Cellar/python/2.7.11/Frameworks/Python.framework/Versions/2.7/lib/python2.7/urllib.pyc\u001b[0m in \u001b[0;36mretrieve\u001b[0;34m(self, url, filename, reporthook, data)\u001b[0m\n\u001b[1;32m    243\u001b[0m             \u001b[0;32mexcept\u001b[0m \u001b[0mIOError\u001b[0m\u001b[0;34m:\u001b[0m\u001b[0;34m\u001b[0m\u001b[0m\n\u001b[1;32m    244\u001b[0m                 \u001b[0;32mpass\u001b[0m\u001b[0;34m\u001b[0m\u001b[0m\n\u001b[0;32m--> 245\u001b[0;31m         \u001b[0mfp\u001b[0m \u001b[0;34m=\u001b[0m \u001b[0mself\u001b[0m\u001b[0;34m.\u001b[0m\u001b[0mopen\u001b[0m\u001b[0;34m(\u001b[0m\u001b[0murl\u001b[0m\u001b[0;34m,\u001b[0m \u001b[0mdata\u001b[0m\u001b[0;34m)\u001b[0m\u001b[0;34m\u001b[0m\u001b[0m\n\u001b[0m\u001b[1;32m    246\u001b[0m         \u001b[0;32mtry\u001b[0m\u001b[0;34m:\u001b[0m\u001b[0;34m\u001b[0m\u001b[0m\n\u001b[1;32m    247\u001b[0m             \u001b[0mheaders\u001b[0m \u001b[0;34m=\u001b[0m \u001b[0mfp\u001b[0m\u001b[0;34m.\u001b[0m\u001b[0minfo\u001b[0m\u001b[0;34m(\u001b[0m\u001b[0;34m)\u001b[0m\u001b[0;34m\u001b[0m\u001b[0m\n",
      "\u001b[0;32m/usr/local/Cellar/python/2.7.11/Frameworks/Python.framework/Versions/2.7/lib/python2.7/urllib.pyc\u001b[0m in \u001b[0;36mopen\u001b[0;34m(self, fullurl, data)\u001b[0m\n\u001b[1;32m    211\u001b[0m         \u001b[0;32mtry\u001b[0m\u001b[0;34m:\u001b[0m\u001b[0;34m\u001b[0m\u001b[0m\n\u001b[1;32m    212\u001b[0m             \u001b[0;32mif\u001b[0m \u001b[0mdata\u001b[0m \u001b[0;32mis\u001b[0m \u001b[0mNone\u001b[0m\u001b[0;34m:\u001b[0m\u001b[0;34m\u001b[0m\u001b[0m\n\u001b[0;32m--> 213\u001b[0;31m                 \u001b[0;32mreturn\u001b[0m \u001b[0mgetattr\u001b[0m\u001b[0;34m(\u001b[0m\u001b[0mself\u001b[0m\u001b[0;34m,\u001b[0m \u001b[0mname\u001b[0m\u001b[0;34m)\u001b[0m\u001b[0;34m(\u001b[0m\u001b[0murl\u001b[0m\u001b[0;34m)\u001b[0m\u001b[0;34m\u001b[0m\u001b[0m\n\u001b[0m\u001b[1;32m    214\u001b[0m             \u001b[0;32melse\u001b[0m\u001b[0;34m:\u001b[0m\u001b[0;34m\u001b[0m\u001b[0m\n\u001b[1;32m    215\u001b[0m                 \u001b[0;32mreturn\u001b[0m \u001b[0mgetattr\u001b[0m\u001b[0;34m(\u001b[0m\u001b[0mself\u001b[0m\u001b[0;34m,\u001b[0m \u001b[0mname\u001b[0m\u001b[0;34m)\u001b[0m\u001b[0;34m(\u001b[0m\u001b[0murl\u001b[0m\u001b[0;34m,\u001b[0m \u001b[0mdata\u001b[0m\u001b[0;34m)\u001b[0m\u001b[0;34m\u001b[0m\u001b[0m\n",
      "\u001b[0;32m/usr/local/Cellar/python/2.7.11/Frameworks/Python.framework/Versions/2.7/lib/python2.7/urllib.pyc\u001b[0m in \u001b[0;36mopen_http\u001b[0;34m(self, url, data)\u001b[0m\n\u001b[1;32m    362\u001b[0m         \u001b[0;32melse\u001b[0m\u001b[0;34m:\u001b[0m\u001b[0;34m\u001b[0m\u001b[0m\n\u001b[1;32m    363\u001b[0m             \u001b[0;32mif\u001b[0m \u001b[0mdata\u001b[0m \u001b[0;32mis\u001b[0m \u001b[0mNone\u001b[0m\u001b[0;34m:\u001b[0m\u001b[0;34m\u001b[0m\u001b[0m\n\u001b[0;32m--> 364\u001b[0;31m                 \u001b[0;32mreturn\u001b[0m \u001b[0mself\u001b[0m\u001b[0;34m.\u001b[0m\u001b[0mhttp_error\u001b[0m\u001b[0;34m(\u001b[0m\u001b[0murl\u001b[0m\u001b[0;34m,\u001b[0m \u001b[0mfp\u001b[0m\u001b[0;34m,\u001b[0m \u001b[0merrcode\u001b[0m\u001b[0;34m,\u001b[0m \u001b[0merrmsg\u001b[0m\u001b[0;34m,\u001b[0m \u001b[0mheaders\u001b[0m\u001b[0;34m)\u001b[0m\u001b[0;34m\u001b[0m\u001b[0m\n\u001b[0m\u001b[1;32m    365\u001b[0m             \u001b[0;32melse\u001b[0m\u001b[0;34m:\u001b[0m\u001b[0;34m\u001b[0m\u001b[0m\n\u001b[1;32m    366\u001b[0m                 \u001b[0;32mreturn\u001b[0m \u001b[0mself\u001b[0m\u001b[0;34m.\u001b[0m\u001b[0mhttp_error\u001b[0m\u001b[0;34m(\u001b[0m\u001b[0murl\u001b[0m\u001b[0;34m,\u001b[0m \u001b[0mfp\u001b[0m\u001b[0;34m,\u001b[0m \u001b[0merrcode\u001b[0m\u001b[0;34m,\u001b[0m \u001b[0merrmsg\u001b[0m\u001b[0;34m,\u001b[0m \u001b[0mheaders\u001b[0m\u001b[0;34m,\u001b[0m \u001b[0mdata\u001b[0m\u001b[0;34m)\u001b[0m\u001b[0;34m\u001b[0m\u001b[0m\n",
      "\u001b[0;32m/usr/local/Cellar/python/2.7.11/Frameworks/Python.framework/Versions/2.7/lib/python2.7/urllib.pyc\u001b[0m in \u001b[0;36mhttp_error\u001b[0;34m(self, url, fp, errcode, errmsg, headers, data)\u001b[0m\n\u001b[1;32m    379\u001b[0m                 \u001b[0mresult\u001b[0m \u001b[0;34m=\u001b[0m \u001b[0mmethod\u001b[0m\u001b[0;34m(\u001b[0m\u001b[0murl\u001b[0m\u001b[0;34m,\u001b[0m \u001b[0mfp\u001b[0m\u001b[0;34m,\u001b[0m \u001b[0merrcode\u001b[0m\u001b[0;34m,\u001b[0m \u001b[0merrmsg\u001b[0m\u001b[0;34m,\u001b[0m \u001b[0mheaders\u001b[0m\u001b[0;34m,\u001b[0m \u001b[0mdata\u001b[0m\u001b[0;34m)\u001b[0m\u001b[0;34m\u001b[0m\u001b[0m\n\u001b[1;32m    380\u001b[0m             \u001b[0;32mif\u001b[0m \u001b[0mresult\u001b[0m\u001b[0;34m:\u001b[0m \u001b[0;32mreturn\u001b[0m \u001b[0mresult\u001b[0m\u001b[0;34m\u001b[0m\u001b[0m\n\u001b[0;32m--> 381\u001b[0;31m         \u001b[0;32mreturn\u001b[0m \u001b[0mself\u001b[0m\u001b[0;34m.\u001b[0m\u001b[0mhttp_error_default\u001b[0m\u001b[0;34m(\u001b[0m\u001b[0murl\u001b[0m\u001b[0;34m,\u001b[0m \u001b[0mfp\u001b[0m\u001b[0;34m,\u001b[0m \u001b[0merrcode\u001b[0m\u001b[0;34m,\u001b[0m \u001b[0merrmsg\u001b[0m\u001b[0;34m,\u001b[0m \u001b[0mheaders\u001b[0m\u001b[0;34m)\u001b[0m\u001b[0;34m\u001b[0m\u001b[0m\n\u001b[0m\u001b[1;32m    382\u001b[0m \u001b[0;34m\u001b[0m\u001b[0m\n\u001b[1;32m    383\u001b[0m     \u001b[0;32mdef\u001b[0m \u001b[0mhttp_error_default\u001b[0m\u001b[0;34m(\u001b[0m\u001b[0mself\u001b[0m\u001b[0;34m,\u001b[0m \u001b[0murl\u001b[0m\u001b[0;34m,\u001b[0m \u001b[0mfp\u001b[0m\u001b[0;34m,\u001b[0m \u001b[0merrcode\u001b[0m\u001b[0;34m,\u001b[0m \u001b[0merrmsg\u001b[0m\u001b[0;34m,\u001b[0m \u001b[0mheaders\u001b[0m\u001b[0;34m)\u001b[0m\u001b[0;34m:\u001b[0m\u001b[0;34m\u001b[0m\u001b[0m\n",
      "\u001b[0;32m/usr/local/Cellar/python/2.7.11/Frameworks/Python.framework/Versions/2.7/lib/python2.7/urllib.pyc\u001b[0m in \u001b[0;36mhttp_error_default\u001b[0;34m(self, url, fp, errcode, errmsg, headers)\u001b[0m\n\u001b[1;32m    384\u001b[0m         \u001b[0;34m\"\"\"Default error handler: close the connection and raise IOError.\"\"\"\u001b[0m\u001b[0;34m\u001b[0m\u001b[0m\n\u001b[1;32m    385\u001b[0m         \u001b[0mfp\u001b[0m\u001b[0;34m.\u001b[0m\u001b[0mclose\u001b[0m\u001b[0;34m(\u001b[0m\u001b[0;34m)\u001b[0m\u001b[0;34m\u001b[0m\u001b[0m\n\u001b[0;32m--> 386\u001b[0;31m         \u001b[0;32mraise\u001b[0m \u001b[0mIOError\u001b[0m\u001b[0;34m,\u001b[0m \u001b[0;34m(\u001b[0m\u001b[0;34m'http error'\u001b[0m\u001b[0;34m,\u001b[0m \u001b[0merrcode\u001b[0m\u001b[0;34m,\u001b[0m \u001b[0merrmsg\u001b[0m\u001b[0;34m,\u001b[0m \u001b[0mheaders\u001b[0m\u001b[0;34m)\u001b[0m\u001b[0;34m\u001b[0m\u001b[0m\n\u001b[0m\u001b[1;32m    387\u001b[0m \u001b[0;34m\u001b[0m\u001b[0m\n\u001b[1;32m    388\u001b[0m     \u001b[0;32mif\u001b[0m \u001b[0m_have_ssl\u001b[0m\u001b[0;34m:\u001b[0m\u001b[0;34m\u001b[0m\u001b[0m\n",
      "\u001b[0;31mIOError\u001b[0m: ('http error', 403, 'Forbidden', <httplib.HTTPMessage instance at 0x1ab7ee3f8>)"
     ]
    }
   ],
   "source": [
    "import urllib\n",
    "\n",
    "def dl_url(row):\n",
    "    output_path = (\n",
    "        '../data/paperdoll/paperdoll_images/' +\n",
    "        str(value['id']) +\n",
    "        '.jpg'\n",
    "    )\n",
    "    try:\n",
    "        opener.retrieve(row['url'], output_path)\n",
    "    except Exception as e:\n",
    "        print e, output_path\n",
    "    \n",
    "limit = 10000\n",
    "cursor = 0\n",
    "opener = urllib.URLopener()\n",
    "for key, value in paperdoll_df.iterrows():\n",
    "    if cursor >= limit:\n",
    "        break\n",
    "    dl_url(value)\n",
    "    cursor = cursor + 1\n",
    "    \n"
   ]
  },
  {
   "cell_type": "code",
   "execution_count": null,
   "metadata": {
    "collapsed": true
   },
   "outputs": [],
   "source": []
  }
 ],
 "metadata": {
  "kernelspec": {
   "display_name": "Python 3",
   "language": "python",
   "name": "python3"
  },
  "language_info": {
   "codemirror_mode": {
    "name": "ipython",
    "version": 2
   },
   "file_extension": ".py",
   "mimetype": "text/x-python",
   "name": "python",
   "nbconvert_exporter": "python",
   "pygments_lexer": "ipython2",
   "version": "2.7.11"
  }
 },
 "nbformat": 4,
 "nbformat_minor": 2
}
